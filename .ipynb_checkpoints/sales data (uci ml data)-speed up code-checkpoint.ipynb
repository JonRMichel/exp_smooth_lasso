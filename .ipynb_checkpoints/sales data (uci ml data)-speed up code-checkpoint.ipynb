{
 "cells": [
  {
   "cell_type": "code",
   "execution_count": 165,
   "metadata": {},
   "outputs": [],
   "source": [
    "import numpy as np\n",
    "import pandas as pd\n",
    "import matplotlib.pyplot as plt"
   ]
  },
  {
   "cell_type": "code",
   "execution_count": 168,
   "metadata": {},
   "outputs": [],
   "source": [
    "# sales_data = pd.read_excel('C:/Users/michelj8/Downloads/Sales_Transactions_Dataset_Weekly.xlsx',sheet_name = 'Sheet1')\n",
    "sales_data = pd.read_excel('C:/Users/michelj8/Documents/GitHub/exp_smooth_lasso/Sales_Transactions_Dataset_Weekly.xlsx', sheet_name = 'Sheet1')\n",
    "sales_data = sales_data.set_index('Product_Code')"
   ]
  },
  {
   "cell_type": "code",
   "execution_count": 169,
   "metadata": {},
   "outputs": [],
   "source": [
    "def exp_smooth(Y,alpha):\n",
    "    smooth = [Y[0]]\n",
    "    for t in range(1, len(Y)):\n",
    "        smooth.append( (1-alpha)*Y[t] + (alpha)* smooth[t-1])    \n",
    "    return smooth\n",
    "\n",
    "def objective(Y,alpha,penalty):\n",
    "    data = pd.DataFrame({'Y':Y, 'est':exp_smooth(Y,alpha)})\n",
    "    data['est'] = data['est'].shift(1)\n",
    "    data = data.dropna()\n",
    "    \n",
    "    sum_squares = np.square(data['Y'] - data['est']).sum() + penalty*abs(alpha)\n",
    "    return sum_squares\n",
    "\n",
    "def minimal_alpha(Y, penalty, grid_size):\n",
    "    alphas = np.linspace(0,1,grid_size)\n",
    "    \n",
    "    min_alpha = 0.0\n",
    "    min_obj = np.square( np.diff( np.array(Y)) ).sum()\n",
    "    \n",
    "    for alpha in alphas:\n",
    "        sum_squares = 0.0\n",
    "        forecast = Y[0]\n",
    "        \n",
    "        for t in range(1, len(Y)):\n",
    "            sum_squares = sum_squares + np.square(Y[t]-forecast)\n",
    "            forecast = (1-alpha)*Y[t] + alpha*forecast\n",
    "        \n",
    "        obj = sum_squares + penalty*alpha\n",
    "        \n",
    "        if obj < min_obj:\n",
    "            min_alpha = alpha\n",
    "            min_obj = obj\n",
    "            \n",
    "    return min_alpha"
   ]
  },
  {
   "cell_type": "markdown",
   "metadata": {},
   "source": [
    "# Alpha SES for all data"
   ]
  },
  {
   "cell_type": "code",
   "execution_count": 5,
   "metadata": {},
   "outputs": [],
   "source": [
    "alpha_df = pd.DataFrame( columns = ['product','alpha'])\n",
    "alpha_df['product'] = sales_data.index.values\n",
    "alpha_df['alpha'] = alpha_df['product'].apply(lambda s: minimal_alpha(sales_data.loc[s],0.0,100) )"
   ]
  },
  {
   "cell_type": "code",
   "execution_count": 6,
   "metadata": {},
   "outputs": [
    {
     "data": {
      "text/plain": [
       "<matplotlib.axes._subplots.AxesSubplot at 0x777310>"
      ]
     },
     "execution_count": 6,
     "metadata": {},
     "output_type": "execute_result"
    },
    {
     "data": {
      "image/png": "[encoded data removed]",
      "text/plain": [
       "<Figure size 432x288 with 1 Axes>"
      ]
     },
     "metadata": {
      "needs_background": "light"
     },
     "output_type": "display_data"
    }
   ],
   "source": [
    "alpha_df['alpha'].hist()"
   ]
  },
  {
   "cell_type": "code",
   "execution_count": 7,
   "metadata": {},
   "outputs": [
    {
     "data": {
      "text/plain": [
       "0.012330456226880395"
      ]
     },
     "execution_count": 7,
     "metadata": {},
     "output_type": "execute_result"
    }
   ],
   "source": [
    "len(alpha_df.query('alpha < .5'))/len(alpha_df)"
   ]
  },
  {
   "cell_type": "code",
   "execution_count": 8,
   "metadata": {},
   "outputs": [
    {
     "data": {
      "text/plain": [
       "<matplotlib.axes._subplots.AxesSubplot at 0x1013f40>"
      ]
     },
     "execution_count": 8,
     "metadata": {},
     "output_type": "execute_result"
    },
    {
     "data": {
      "image/png": "[encoded data removed]",
      "text/plain": [
       "<Figure size 432x288 with 1 Axes>"
      ]
     },
     "metadata": {
      "needs_background": "light"
     },
     "output_type": "display_data"
    }
   ],
   "source": [
    "(sales_data['W51'] - sales_data['W0']).hist()"
   ]
  },
  {
   "cell_type": "markdown",
   "metadata": {},
   "source": [
    "# LASSO Analysis for 1"
   ]
  },
  {
   "cell_type": "code",
   "execution_count": 170,
   "metadata": {},
   "outputs": [],
   "source": [
    "Y = sales_data.loc['P16']\n",
    "sample_size = len(Y)\n",
    "\n",
    "Y_train = Y[0:round(sample_size/2.5)].values\n",
    "Y_validate = Y[round(sample_size/2.5):2*round(sample_size/2.5)].values\n",
    "Y_test = Y[2*round(sample_size/2.5):].values\n",
    "\n",
    "train_index = range(0,round(sample_size/2.5))\n",
    "validate_index = range(round(sample_size/2.5), 2* round(sample_size/2.5))\n",
    "test_index = range(2*round(sample_size/2.5),sample_size)\n",
    "\n",
    "penalty_list = np.linspace(0,750,50)\n",
    "# penalty_list = np.linspace(0,400,50)\n",
    "\n",
    "cv_df = pd.DataFrame(columns =['penalty','train_alpha','validate_sse','test_sse'])\n",
    "cv_df['penalty'] = penalty_list\n",
    "cv_df = cv_df.set_index('penalty')\n",
    "\n",
    "for pen in penalty_list:\n",
    "    train_alpha = minimal_alpha(Y_train,pen,200)\n",
    "    \n",
    "    exp_df = pd.DataFrame({'Y':Y,'exp':exp_smooth(Y,train_alpha)})\n",
    "    exp_df['exp'] = exp_df['exp'].shift(1) \n",
    "    exp_df = exp_df.reset_index()\n",
    "    \n",
    "    val_sse = np.square(exp_df.loc[validate_index]['Y'] - exp_df.loc[validate_index]['exp']).sum()\n",
    "    test_sse = np.square(exp_df.loc[test_index]['Y'] - exp_df.loc[test_index]['exp']).sum()\n",
    "    \n",
    "    cv_df.loc[pen] = [train_alpha,val_sse,test_sse]\n",
    "    \n",
    "cv_df = cv_df.reset_index()\n",
    "\n",
    "\n",
    "opt_lambda = cv_df[cv_df['validate_sse']== cv_df['validate_sse'].min()]['penalty'].values[0]\n",
    "\n",
    "alpha_list = []\n",
    "oos_error_list = []\n",
    "for pen in [0.0, opt_lambda]:\n",
    "    train_alpha = minimal_alpha(np.append(Y_train,Y_validate),pen, 200)\n",
    "    \n",
    "    exp_df = pd.DataFrame({'Y':Y,'exp':exp_smooth(Y,train_alpha)})\n",
    "    exp_df['exp'] = exp_df['exp'].shift(1) \n",
    "    exp_df = exp_df.reset_index()\n",
    "    test_sse = np.square(exp_df.loc[test_index]['Y'] - exp_df.loc[test_index]['exp']).sum()\n",
    "    \n",
    "    alpha_list.append(train_alpha)\n",
    "    oos_error_list.append(test_sse)"
   ]
  },
  {
   "cell_type": "code",
   "execution_count": 171,
   "metadata": {
    "scrolled": true
   },
   "outputs": [
    {
     "data": {
      "text/html": [
       "<div>\n",
       "<style scoped>\n",
       "    .dataframe tbody tr th:only-of-type {\n",
       "        vertical-align: middle;\n",
       "    }\n",
       "\n",
       "    .dataframe tbody tr th {\n",
       "        vertical-align: top;\n",
       "    }\n",
       "\n",
       "    .dataframe thead th {\n",
       "        text-align: right;\n",
       "    }\n",
       "</style>\n",
       "<table border=\"1\" class=\"dataframe\">\n",
       "  <thead>\n",
       "    <tr style=\"text-align: right;\">\n",
       "      <th></th>\n",
       "      <th>alpha</th>\n",
       "      <th>sse</th>\n",
       "    </tr>\n",
       "    <tr>\n",
       "      <th>model</th>\n",
       "      <th></th>\n",
       "      <th></th>\n",
       "    </tr>\n",
       "  </thead>\n",
       "  <tbody>\n",
       "    <tr>\n",
       "      <th>exp_smooth</th>\n",
       "      <td>0.673367</td>\n",
       "      <td>546.481580</td>\n",
       "    </tr>\n",
       "    <tr>\n",
       "      <th>lasso</th>\n",
       "      <td>0.577889</td>\n",
       "      <td>518.216867</td>\n",
       "    </tr>\n",
       "  </tbody>\n",
       "</table>\n",
       "</div>"
      ],
      "text/plain": [
       "               alpha         sse\n",
       "model                           \n",
       "exp_smooth  0.673367  546.481580\n",
       "lasso       0.577889  518.216867"
      ]
     },
     "execution_count": 171,
     "metadata": {},
     "output_type": "execute_result"
    }
   ],
   "source": [
    "outcome_df =  pd.DataFrame({'model':['exp_smooth','lasso'], 'alpha':alpha_list, 'sse':oos_error_list})\n",
    "outcome_df.set_index('model')"
   ]
  },
  {
   "cell_type": "code",
   "execution_count": 172,
   "metadata": {},
   "outputs": [
    {
     "data": {
      "text/plain": [
       "<matplotlib.axes._subplots.AxesSubplot at 0x9e0d4f0>"
      ]
     },
     "execution_count": 172,
     "metadata": {},
     "output_type": "execute_result"
    },
    {
     "data": {
      "image/png": "[encoded data removed]",
      "text/plain": [
       "<Figure size 432x288 with 1 Axes>"
      ]
     },
     "metadata": {
      "needs_background": "light"
     },
     "output_type": "display_data"
    }
   ],
   "source": [
    "cv_df.plot(x = 'penalty',y='train_alpha')"
   ]
  },
  {
   "cell_type": "code",
   "execution_count": 173,
   "metadata": {},
   "outputs": [
    {
     "data": {
      "text/plain": [
       "<matplotlib.axes._subplots.AxesSubplot at 0xa40ec58>"
      ]
     },
     "execution_count": 173,
     "metadata": {},
     "output_type": "execute_result"
    },
    {
     "data": {
      "image/png": "[encoded data removed]",
      "text/plain": [
       "<Figure size 432x288 with 1 Axes>"
      ]
     },
     "metadata": {
      "needs_background": "light"
     },
     "output_type": "display_data"
    }
   ],
   "source": [
    "cv_df.plot(x = 'penalty', y='validate_sse')"
   ]
  },
  {
   "cell_type": "code",
   "execution_count": 174,
   "metadata": {},
   "outputs": [
    {
     "data": {
      "text/plain": [
       "<matplotlib.axes._subplots.AxesSubplot at 0xc280460>"
      ]
     },
     "execution_count": 174,
     "metadata": {},
     "output_type": "execute_result"
    },
    {
     "data": {
      "image/png": "[encoded data removed]",
      "text/plain": [
       "<Figure size 432x288 with 1 Axes>"
      ]
     },
     "metadata": {
      "needs_background": "light"
     },
     "output_type": "display_data"
    }
   ],
   "source": [
    "cv_df.plot(x = 'penalty',y='test_sse')"
   ]
  },
  {
   "cell_type": "code",
   "execution_count": 175,
   "metadata": {},
   "outputs": [
    {
     "data": {
      "text/html": [
       "<div>\n",
       "<style scoped>\n",
       "    .dataframe tbody tr th:only-of-type {\n",
       "        vertical-align: middle;\n",
       "    }\n",
       "\n",
       "    .dataframe tbody tr th {\n",
       "        vertical-align: top;\n",
       "    }\n",
       "\n",
       "    .dataframe thead th {\n",
       "        text-align: right;\n",
       "    }\n",
       "</style>\n",
       "<table border=\"1\" class=\"dataframe\">\n",
       "  <thead>\n",
       "    <tr style=\"text-align: right;\">\n",
       "      <th></th>\n",
       "      <th>penalty</th>\n",
       "      <th>train_alpha</th>\n",
       "      <th>validate_sse</th>\n",
       "      <th>test_sse</th>\n",
       "    </tr>\n",
       "  </thead>\n",
       "  <tbody>\n",
       "    <tr>\n",
       "      <th>45</th>\n",
       "      <td>688.775510</td>\n",
       "      <td>0.366834</td>\n",
       "      <td>693.69</td>\n",
       "      <td>465.656</td>\n",
       "    </tr>\n",
       "    <tr>\n",
       "      <th>46</th>\n",
       "      <td>704.081633</td>\n",
       "      <td>0.356784</td>\n",
       "      <td>696.154</td>\n",
       "      <td>463.876</td>\n",
       "    </tr>\n",
       "    <tr>\n",
       "      <th>47</th>\n",
       "      <td>719.387755</td>\n",
       "      <td>0.341709</td>\n",
       "      <td>700.043</td>\n",
       "      <td>461.353</td>\n",
       "    </tr>\n",
       "    <tr>\n",
       "      <th>48</th>\n",
       "      <td>734.693878</td>\n",
       "      <td>0.331658</td>\n",
       "      <td>702.764</td>\n",
       "      <td>459.771</td>\n",
       "    </tr>\n",
       "    <tr>\n",
       "      <th>49</th>\n",
       "      <td>750.000000</td>\n",
       "      <td>0.321608</td>\n",
       "      <td>705.587</td>\n",
       "      <td>458.27</td>\n",
       "    </tr>\n",
       "  </tbody>\n",
       "</table>\n",
       "</div>"
      ],
      "text/plain": [
       "       penalty train_alpha validate_sse test_sse\n",
       "45  688.775510    0.366834       693.69  465.656\n",
       "46  704.081633    0.356784      696.154  463.876\n",
       "47  719.387755    0.341709      700.043  461.353\n",
       "48  734.693878    0.331658      702.764  459.771\n",
       "49  750.000000    0.321608      705.587   458.27"
      ]
     },
     "execution_count": 175,
     "metadata": {},
     "output_type": "execute_result"
    }
   ],
   "source": [
    "cv_df.tail()"
   ]
  },
  {
   "cell_type": "code",
   "execution_count": 176,
   "metadata": {},
   "outputs": [
    {
     "data": {
      "text/plain": [
       "<matplotlib.axes._subplots.AxesSubplot at 0xc280aa8>"
      ]
     },
     "execution_count": 176,
     "metadata": {},
     "output_type": "execute_result"
    },
    {
     "data": {
      "image/png": "[encoded data removed]",
      "text/plain": [
       "<Figure size 432x288 with 1 Axes>"
      ]
     },
     "metadata": {
      "needs_background": "light"
     },
     "output_type": "display_data"
    }
   ],
   "source": [
    "Y.plot()"
   ]
  },
  {
   "cell_type": "code",
   "execution_count": 177,
   "metadata": {},
   "outputs": [
    {
     "data": {
      "text/plain": [
       "<matplotlib.axes._subplots.AxesSubplot at 0xaa3cd78>"
      ]
     },
     "execution_count": 177,
     "metadata": {},
     "output_type": "execute_result"
    },
    {
     "data": {
      "image/png": "[encoded data removed]",
      "text/plain": [
       "<Figure size 576x360 with 1 Axes>"
      ]
     },
     "metadata": {
      "needs_background": "light"
     },
     "output_type": "display_data"
    }
   ],
   "source": [
    "objective_df = pd.DataFrame(columns = ['alpha','standard','opt_lasso'])\n",
    "objective_df['alpha'] = np.linspace(0,1,25)\n",
    "\n",
    "objective_df['standard'] = objective_df['alpha'].apply(lambda s: objective(Y,s,0.0))\n",
    "objective_df['lasso'] = objective_df['alpha'].apply(lambda s: objective(Y,s,opt_lambda))\n",
    "\n",
    "\n",
    "fig, ax = plt.subplots(figsize = (8,5))\n",
    "objective_df.plot(x= 'alpha', y='standard', ax = ax)\n",
    "objective_df.plot(x= 'alpha', y='lasso', ax = ax)"
   ]
  },
  {
   "cell_type": "markdown",
   "metadata": {},
   "source": [
    "## Analysis for all series"
   ]
  },
  {
   "cell_type": "code",
   "execution_count": 219,
   "metadata": {},
   "outputs": [],
   "source": [
    "test_df = pd.DataFrame(columns = ['alpha_ses','alpha_lasso','opt_lambda','sse_ses','sse_lasso'])\n",
    "\n",
    "popular_product_index = sales_data[ sales_data.sum(axis = 1) > 1000].index\n",
    "\n",
    "# for prod in sales_data.index.values:\n",
    "for prod in popular_product_index:\n",
    "    Y = sales_data.loc[prod]\n",
    "    sample_size = len(Y)\n",
    "\n",
    "    Y_train = Y[0:round(sample_size/2.5)].values\n",
    "    Y_validate = Y[round(sample_size/2.5):2*round(sample_size/2.5)].values\n",
    "    Y_test = Y[2*round(sample_size/2.5):].values\n",
    "\n",
    "\n",
    "    train_index = range(0,round(sample_size/2.5))\n",
    "    validate_index = range(round(sample_size/2.5), 2* round(sample_size/2.5))\n",
    "    test_index = range(2*round(sample_size/2.5),sample_size)\n",
    "\n",
    "\n",
    "    penalty_list = np.linspace(0,750,50)\n",
    "    # penalty_list = np.linspace(0,400,50)\n",
    "\n",
    "    cv_df = pd.DataFrame(columns =['penalty','train_alpha','validate_sse','test_sse'])\n",
    "    cv_df['penalty'] = penalty_list\n",
    "    cv_df = cv_df.set_index('penalty')\n",
    "\n",
    "    for pen in penalty_list:\n",
    "        train_alpha = minimal_alpha(Y_train,pen,200)\n",
    "\n",
    "        exp_df = pd.DataFrame({'Y':Y,'exp':exp_smooth(Y,train_alpha)})\n",
    "        exp_df['exp'] = exp_df['exp'].shift(1) \n",
    "        exp_df = exp_df.reset_index()\n",
    "\n",
    "        val_sse = np.square(exp_df.loc[validate_index]['Y'] - exp_df.loc[validate_index]['exp']).sum()\n",
    "        test_sse = np.square(exp_df.loc[test_index]['Y'] - exp_df.loc[test_index]['exp']).sum()\n",
    "\n",
    "        cv_df.loc[pen] = [train_alpha,val_sse,test_sse]\n",
    "\n",
    "    cv_df = cv_df.reset_index()\n",
    "\n",
    "\n",
    "    opt_lambda = cv_df[cv_df['validate_sse']== cv_df['validate_sse'].min()]['penalty'].values[0]\n",
    "\n",
    "    alpha_list = []\n",
    "    oos_error_list = []\n",
    "    for pen in [0.0, (2.0**(.33))*opt_lambda]:\n",
    "        train_alpha = minimal_alpha(np.append(Y_train,Y_validate),pen, 200)\n",
    "\n",
    "        exp_df = pd.DataFrame({'Y':Y,'exp':exp_smooth(Y,train_alpha)})\n",
    "        exp_df['exp'] = exp_df['exp'].shift(1) \n",
    "        exp_df = exp_df.reset_index()\n",
    "        test_sse = np.square(exp_df.loc[test_index]['Y'] - exp_df.loc[test_index]['exp']).sum()\n",
    "\n",
    "        alpha_list.append(train_alpha)\n",
    "        oos_error_list.append(test_sse)\n",
    "\n",
    "    \n",
    "    test_df.loc[prod] = alpha_list +[opt_lambda] +oos_error_list"
   ]
  },
  {
   "cell_type": "code",
   "execution_count": 220,
   "metadata": {},
   "outputs": [
    {
     "data": {
      "text/html": [
       "<div>\n",
       "<style scoped>\n",
       "    .dataframe tbody tr th:only-of-type {\n",
       "        vertical-align: middle;\n",
       "    }\n",
       "\n",
       "    .dataframe tbody tr th {\n",
       "        vertical-align: top;\n",
       "    }\n",
       "\n",
       "    .dataframe thead th {\n",
       "        text-align: right;\n",
       "    }\n",
       "</style>\n",
       "<table border=\"1\" class=\"dataframe\">\n",
       "  <thead>\n",
       "    <tr style=\"text-align: right;\">\n",
       "      <th></th>\n",
       "      <th>alpha_ses</th>\n",
       "      <th>alpha_lasso</th>\n",
       "      <th>opt_lambda</th>\n",
       "      <th>sse_ses</th>\n",
       "      <th>sse_lasso</th>\n",
       "    </tr>\n",
       "  </thead>\n",
       "  <tbody>\n",
       "    <tr>\n",
       "      <th>P10</th>\n",
       "      <td>0.899497</td>\n",
       "      <td>0.839196</td>\n",
       "      <td>459.183673</td>\n",
       "      <td>171.164151</td>\n",
       "      <td>175.404563</td>\n",
       "    </tr>\n",
       "    <tr>\n",
       "      <th>P15</th>\n",
       "      <td>0.567839</td>\n",
       "      <td>0.567839</td>\n",
       "      <td>0.000000</td>\n",
       "      <td>412.663430</td>\n",
       "      <td>412.663430</td>\n",
       "    </tr>\n",
       "    <tr>\n",
       "      <th>P16</th>\n",
       "      <td>0.673367</td>\n",
       "      <td>0.542714</td>\n",
       "      <td>413.265306</td>\n",
       "      <td>546.481580</td>\n",
       "      <td>507.907778</td>\n",
       "    </tr>\n",
       "    <tr>\n",
       "      <th>P17</th>\n",
       "      <td>0.618090</td>\n",
       "      <td>0.472362</td>\n",
       "      <td>750.000000</td>\n",
       "      <td>272.483540</td>\n",
       "      <td>276.953528</td>\n",
       "    </tr>\n",
       "    <tr>\n",
       "      <th>P18</th>\n",
       "      <td>0.748744</td>\n",
       "      <td>0.321608</td>\n",
       "      <td>750.000000</td>\n",
       "      <td>309.047014</td>\n",
       "      <td>388.603607</td>\n",
       "    </tr>\n",
       "  </tbody>\n",
       "</table>\n",
       "</div>"
      ],
      "text/plain": [
       "     alpha_ses  alpha_lasso  opt_lambda     sse_ses   sse_lasso\n",
       "P10   0.899497     0.839196  459.183673  171.164151  175.404563\n",
       "P15   0.567839     0.567839    0.000000  412.663430  412.663430\n",
       "P16   0.673367     0.542714  413.265306  546.481580  507.907778\n",
       "P17   0.618090     0.472362  750.000000  272.483540  276.953528\n",
       "P18   0.748744     0.321608  750.000000  309.047014  388.603607"
      ]
     },
     "execution_count": 220,
     "metadata": {},
     "output_type": "execute_result"
    }
   ],
   "source": [
    "test_df.head()"
   ]
  },
  {
   "cell_type": "code",
   "execution_count": 221,
   "metadata": {},
   "outputs": [
    {
     "data": {
      "text/plain": [
       "<matplotlib.axes._subplots.AxesSubplot at 0xc235358>"
      ]
     },
     "execution_count": 221,
     "metadata": {},
     "output_type": "execute_result"
    },
    {
     "data": {
      "image/png": "[encoded data removed]",
      "text/plain": [
       "<Figure size 432x288 with 1 Axes>"
      ]
     },
     "metadata": {
      "needs_background": "light"
     },
     "output_type": "display_data"
    }
   ],
   "source": [
    "test_df['sse_delta'] = (test_df['sse_ses'] - test_df['sse_lasso'])\n",
    "test_df['sse_delta'].hist()"
   ]
  },
  {
   "cell_type": "code",
   "execution_count": 222,
   "metadata": {},
   "outputs": [
    {
     "data": {
      "text/plain": [
       "<matplotlib.axes._subplots.AxesSubplot at 0xc241f70>"
      ]
     },
     "execution_count": 222,
     "metadata": {},
     "output_type": "execute_result"
    },
    {
     "data": {
      "image/png": "[encoded data removed]",
      "text/plain": [
       "<Figure size 1152x576 with 1 Axes>"
      ]
     },
     "metadata": {
      "needs_background": "light"
     },
     "output_type": "display_data"
    }
   ],
   "source": [
    "fig, ax = plt.subplots(figsize = (16,8))\n",
    "\n",
    "(test_df['sse_delta']/test_df['sse_ses']).hist(ax = ax)"
   ]
  },
  {
   "cell_type": "code",
   "execution_count": 223,
   "metadata": {},
   "outputs": [
    {
     "data": {
      "text/plain": [
       "0.4765625"
      ]
     },
     "execution_count": 223,
     "metadata": {},
     "output_type": "execute_result"
    }
   ],
   "source": [
    "len(test_df.query('sse_delta < 0'))/len(test_df)"
   ]
  },
  {
   "cell_type": "code",
   "execution_count": 224,
   "metadata": {},
   "outputs": [
    {
     "data": {
      "text/plain": [
       "0.21875"
      ]
     },
     "execution_count": 224,
     "metadata": {},
     "output_type": "execute_result"
    }
   ],
   "source": [
    "len(test_df.query('sse_delta > 0'))/len(test_df)"
   ]
  },
  {
   "cell_type": "code",
   "execution_count": 225,
   "metadata": {},
   "outputs": [
    {
     "data": {
      "text/plain": [
       "0.3046875"
      ]
     },
     "execution_count": 225,
     "metadata": {},
     "output_type": "execute_result"
    }
   ],
   "source": [
    "len(test_df.query('sse_delta == 0'))/len(test_df)"
   ]
  },
  {
   "cell_type": "code",
   "execution_count": 226,
   "metadata": {},
   "outputs": [
    {
     "data": {
      "text/plain": [
       "<matplotlib.axes._subplots.AxesSubplot at 0xce79100>"
      ]
     },
     "execution_count": 226,
     "metadata": {},
     "output_type": "execute_result"
    },
    {
     "data": {
      "image/png": "[encoded data removed]",
      "text/plain": [
       "<Figure size 432x288 with 1 Axes>"
      ]
     },
     "metadata": {
      "needs_background": "light"
     },
     "output_type": "display_data"
    }
   ],
   "source": [
    "test_df['opt_lambda'].hist()"
   ]
  },
  {
   "cell_type": "code",
   "execution_count": 227,
   "metadata": {},
   "outputs": [
    {
     "data": {
      "text/plain": [
       "<matplotlib.axes._subplots.AxesSubplot at 0xd24c7c0>"
      ]
     },
     "execution_count": 227,
     "metadata": {},
     "output_type": "execute_result"
    },
    {
     "data": {
      "image/png": "[encoded data removed]",
      "text/plain": [
       "<Figure size 432x288 with 1 Axes>"
      ]
     },
     "metadata": {
      "needs_background": "light"
     },
     "output_type": "display_data"
    }
   ],
   "source": [
    "(test_df['alpha_ses'] - test_df['alpha_lasso']).hist()"
   ]
  },
  {
   "cell_type": "code",
   "execution_count": 211,
   "metadata": {},
   "outputs": [
    {
     "data": {
      "text/plain": [
       "<matplotlib.axes._subplots.AxesSubplot at 0xc4a6df0>"
      ]
     },
     "execution_count": 211,
     "metadata": {},
     "output_type": "execute_result"
    },
    {
     "data": {
      "image/png": "[encoded data removed]",
      "text/plain": [
       "<Figure size 1152x576 with 1 Axes>"
      ]
     },
     "metadata": {
      "needs_background": "light"
     },
     "output_type": "display_data"
    }
   ],
   "source": [
    "fig, ax = plt.subplots(figsize = (16,8))\n",
    "\n",
    "test_df.plot.scatter(x='alpha_ses',y='alpha_lasso', ax = ax)"
   ]
  },
  {
   "cell_type": "code",
   "execution_count": 212,
   "metadata": {},
   "outputs": [
    {
     "data": {
      "text/plain": [
       "[Text(0, 0, '.4'),\n",
       " Text(0, 0, '.5'),\n",
       " Text(0, 0, '.6'),\n",
       " Text(0, 0, '.7'),\n",
       " Text(0, 0, '.8'),\n",
       " Text(0, 0, '.9'),\n",
       " Text(0, 0, '1')]"
      ]
     },
     "execution_count": 212,
     "metadata": {},
     "output_type": "execute_result"
    },
    {
     "data": {
      "image/png": "[encoded data removed]",
      "text/plain": [
       "<Figure size 1152x576 with 1 Axes>"
      ]
     },
     "metadata": {
      "needs_background": "light"
     },
     "output_type": "display_data"
    }
   ],
   "source": [
    "test_df['ses_bucket']=  test_df['alpha_ses'].apply(lambda s: round(10*s))\n",
    "test_df['penalized'] = 1*(test_df['opt_lambda']>0)\n",
    "\n",
    "fig, ax = plt.subplots(figsize = (16,8))\n",
    "test_df[['ses_bucket','penalized']].groupby('ses_bucket').mean().plot(ax = ax)\n",
    "\n",
    "ax.legend(['Percent Penalized'])\n",
    "ax.set_xlabel('SES Alpha')\n",
    "\n",
    "labels = [item.get_text() for item in ax.get_xticklabels()]\n",
    "labels = ['.4','.5','.6','.7','.8','.9','1']\n",
    "ax.set_xticklabels(labels)"
   ]
  },
  {
   "cell_type": "code",
   "execution_count": 213,
   "metadata": {},
   "outputs": [
    {
     "data": {
      "text/plain": [
       "<matplotlib.axes._subplots.AxesSubplot at 0xc244d90>"
      ]
     },
     "execution_count": 213,
     "metadata": {},
     "output_type": "execute_result"
    },
    {
     "data": {
      "image/png": "[encoded data removed]",
      "text/plain": [
       "<Figure size 432x288 with 1 Axes>"
      ]
     },
     "metadata": {
      "needs_background": "light"
     },
     "output_type": "display_data"
    }
   ],
   "source": [
    "test_df.plot.scatter(x='opt_lambda',y='sse_delta')"
   ]
  },
  {
   "cell_type": "code",
   "execution_count": 214,
   "metadata": {},
   "outputs": [
    {
     "data": {
      "text/plain": [
       "128"
      ]
     },
     "execution_count": 214,
     "metadata": {},
     "output_type": "execute_result"
    }
   ],
   "source": [
    "len(popular_product_index)"
   ]
  },
  {
   "cell_type": "markdown",
   "metadata": {},
   "source": [
    "# Multistep forecasts"
   ]
  },
  {
   "cell_type": "code",
   "execution_count": 217,
   "metadata": {},
   "outputs": [],
   "source": [
    "multi_step_df = pd.DataFrame(columns = range(1,7))\n",
    "\n",
    "for prod in popular_product_index:\n",
    "    Y = sales_data.loc[prod]\n",
    "    sample_size = len(Y)\n",
    "    test_index = range(2*round(sample_size/2.5),sample_size)\n",
    "\n",
    "\n",
    "    alpha_ses = test_df.loc[prod,'alpha_ses']\n",
    "    alpha_lasso = test_df.loc[prod,'alpha_lasso']\n",
    "    \n",
    "    for h in range(1,7):\n",
    "        ses_exp_df = pd.DataFrame({'Y':Y,'exp':exp_smooth(Y,alpha_ses)})\n",
    "        ses_exp_df['exp'] = ses_exp_df['exp'].shift(h) \n",
    "        ses_exp_df = ses_exp_df.reset_index() \n",
    "        ses_error = np.square(ses_exp_df.loc[test_index]['Y'] - ses_exp_df.loc[test_index]['exp']).sum()\n",
    "        \n",
    "        lasso_exp_df = pd.DataFrame({'Y':Y,'exp':exp_smooth(Y,alpha_lasso)})\n",
    "        lasso_exp_df['exp'] = lasso_exp_df['exp'].shift(h) \n",
    "        lasso_exp_df= lasso_exp_df.reset_index()\n",
    "        lasso_error = np.square(lasso_exp_df.loc[test_index]['Y'] - lasso_exp_df.loc[test_index]['exp']).sum()\n",
    "        \n",
    "        multi_step_df.loc[prod,h] =  (ses_error - lasso_error)"
   ]
  },
  {
   "cell_type": "code",
   "execution_count": 218,
   "metadata": {},
   "outputs": [
    {
     "name": "stdout",
     "output_type": "stream",
     "text": [
      "1\n",
      "0.21875 0.5234375\n",
      "\n",
      "2\n",
      "0.1640625 0.46875\n",
      "\n",
      "3\n",
      "0.1640625 0.46875\n",
      "\n",
      "4\n",
      "0.125 0.4296875\n",
      "\n",
      "5\n",
      "0.1484375 0.453125\n",
      "\n",
      "6\n",
      "0.15625 0.4609375\n",
      "\n"
     ]
    }
   ],
   "source": [
    "for h in range(1,7):\n",
    "    print(h)\n",
    "    print(sum(1*(multi_step_df[h] > 0))/len(multi_step_df), sum(1*(multi_step_df[h] >= 0))/len(multi_step_df))\n",
    "    print()"
   ]
  },
  {
   "cell_type": "code",
   "execution_count": 306,
   "metadata": {},
   "outputs": [],
   "source": [
    "single_lambda_df = pd.DataFrame(columns = ['alpha_ses','alpha_lasso','sse_ses','sse_lasso'])\n",
    "\n",
    "popular_product_index = sales_data[ sales_data.sum(axis = 1) > 1000].index\n",
    "\n",
    "for prod in popular_product_index:\n",
    "    oos_errors = []\n",
    "    alphas = []\n",
    "    \n",
    "    Y = sales_data.loc[prod]\n",
    "    sample_size = len(Y)\n",
    "    Y_train = Y[0:round(sample_size/2.0)].values\n",
    "    Y_test = Y[round(sample_size/2.0):sample_size].values\n",
    "    \n",
    "    train_index = range(0,round(sample_size/2.0))\n",
    "    test_index = range(round(sample_size/2.0),sample_size)\n",
    "    \n",
    "    for penalty in [0,  7.0]:\n",
    "        train_alpha = minimal_alpha(Y_test, penalty, 50)\n",
    "        alphas.append(train_alpha)\n",
    "        \n",
    "        exp_df = pd.DataFrame({'Y':Y,'exp':exp_smooth(Y,train_alpha)})\n",
    "        exp_df['exp'] = exp_df['exp'].shift(1) \n",
    "        exp_df = exp_df.reset_index()\n",
    "        test_sse = np.square(exp_df.loc[test_index]['Y'] - exp_df.loc[test_index]['exp']).sum()\n",
    "\n",
    "        alpha_list.append(train_alpha)\n",
    "        oos_errors.append(test_sse)\n",
    "\n",
    "    single_lambda_df.loc[prod] = alphas + oos_errors\n",
    "        "
   ]
  },
  {
   "cell_type": "code",
   "execution_count": 307,
   "metadata": {},
   "outputs": [
    {
     "data": {
      "text/plain": [
       "0.0390625"
      ]
     },
     "execution_count": 307,
     "metadata": {},
     "output_type": "execute_result"
    }
   ],
   "source": [
    "(1*(single_lambda_df['sse_ses'] < single_lambda_df['sse_lasso'])).sum()/len(single_lambda_df)"
   ]
  },
  {
   "cell_type": "code",
   "execution_count": 308,
   "metadata": {},
   "outputs": [
    {
     "data": {
      "text/plain": [
       "0.046875"
      ]
     },
     "execution_count": 308,
     "metadata": {},
     "output_type": "execute_result"
    }
   ],
   "source": [
    "(1*(single_lambda_df['sse_ses'] > single_lambda_df['sse_lasso'])).sum()/len(single_lambda_df)"
   ]
  },
  {
   "cell_type": "code",
   "execution_count": 326,
   "metadata": {},
   "outputs": [],
   "source": [
    "DY = np.diff(Y)\n",
    "scale = np.sum(DY[:-1] * DY[1:])"
   ]
  },
  {
   "cell_type": "code",
   "execution_count": 333,
   "metadata": {},
   "outputs": [],
   "source": [
    "cross_cor = []\n",
    "\n",
    "for prod in popular_product_index:\n",
    "    Y = sales_data.loc[prod]\n",
    "    sample_size = len(Y)\n",
    "    Y_train = Y[0:round(sample_size/2.0)].values   \n",
    "    \n",
    "    DY = np.diff(Y_train)\n",
    "    scale = np.abs(np.sum(DY[:-1] * DY[1:]))\n",
    "    cross_cor.append(scale)"
   ]
  },
  {
   "cell_type": "code",
   "execution_count": 334,
   "metadata": {},
   "outputs": [
    {
     "data": {
      "text/plain": [
       "array([[<matplotlib.axes._subplots.AxesSubplot object at 0x0D376EB0>]],\n",
       "      dtype=object)"
      ]
     },
     "execution_count": 334,
     "metadata": {},
     "output_type": "execute_result"
    },
    {
     "data": {
      "image/png": "[encoded data removed]",
      "text/plain": [
       "<Figure size 432x288 with 1 Axes>"
      ]
     },
     "metadata": {
      "needs_background": "light"
     },
     "output_type": "display_data"
    }
   ],
   "source": [
    "pd.DataFrame(cross_cor).hist()"
   ]
  },
  {
   "cell_type": "code",
   "execution_count": 428,
   "metadata": {},
   "outputs": [],
   "source": [
    "outcome_df = pd.DataFrame(columns = ['sse_wins','lasso_wins'])\n",
    "\n",
    "\n",
    "for lasso_penalty in np.linspace(0,2,10):\n",
    "    single_lambda_df = pd.DataFrame(columns = ['alpha_ses','alpha_lasso','sse_ses','sse_lasso'])\n",
    "\n",
    "    popular_product_index = sales_data[ sales_data.sum(axis = 1) > 1000].index\n",
    "\n",
    "    for prod in popular_product_index:\n",
    "        oos_errors = []\n",
    "        alphas = []\n",
    "\n",
    "        Y = sales_data.loc[prod]\n",
    "        sample_size = len(Y)\n",
    "        Y_train = Y[0:round(sample_size/2.0)].values\n",
    "        Y_test = Y[round(sample_size/2.0):sample_size].values\n",
    "        DY = np.diff(Y_train)\n",
    "        scale = np.abs(np.sum(DY[:-1] * DY[1:]))\n",
    "        \n",
    "        \n",
    "        train_index = range(0,round(sample_size/2.0))\n",
    "        test_index = range(round(sample_size/2.0),sample_size)\n",
    "\n",
    "#         for penalty in [0,  lasso_penalty]:\n",
    "        for penalty in [0, scale*lasso_penalty]:\n",
    "            train_alpha = minimal_alpha(Y_test, penalty, 100)\n",
    "            alphas.append(train_alpha)\n",
    "\n",
    "            exp_df = pd.DataFrame({'Y':Y,'exp':exp_smooth(Y,train_alpha)})\n",
    "            exp_df['exp'] = exp_df['exp'].shift(1) \n",
    "            exp_df = exp_df.reset_index()\n",
    "            test_sse = np.square(exp_df.loc[test_index]['Y'] - exp_df.loc[test_index]['exp']).sum()\n",
    "\n",
    "            alpha_list.append(train_alpha)\n",
    "            oos_errors.append(test_sse)\n",
    "\n",
    "        single_lambda_df.loc[prod] = alphas + oos_errors\n",
    "        \n",
    "    sse_wins = (1*(single_lambda_df['sse_ses'] < single_lambda_df['sse_lasso'])).sum()/len(single_lambda_df)\n",
    "    lasso_wins = (1*(single_lambda_df['sse_ses'] > single_lambda_df['sse_lasso'])).sum()/len(single_lambda_df)\n",
    "    outcome_df.loc[lasso_penalty] = [sse_wins, lasso_wins]"
   ]
  },
  {
   "cell_type": "code",
   "execution_count": 429,
   "metadata": {},
   "outputs": [
    {
     "data": {
      "text/plain": [
       "Text(0.5, 0, 'Lambda')"
      ]
     },
     "execution_count": 429,
     "metadata": {},
     "output_type": "execute_result"
    },
    {
     "data": {
      "image/png": "[encoded data removed]",
      "text/plain": [
       "<Figure size 1296x432 with 1 Axes>"
      ]
     },
     "metadata": {
      "needs_background": "light"
     },
     "output_type": "display_data"
    }
   ],
   "source": [
    "fig, ax = plt.subplots(figsize = (18,6))\n",
    "outcome_df.plot(ax = ax)\n",
    "ax.legend(['SES Preferred', 'LASSO Preferred'])\n",
    "ax.set_xlabel('Lambda')"
   ]
  },
  {
   "cell_type": "code",
   "execution_count": 396,
   "metadata": {},
   "outputs": [
    {
     "data": {
      "text/html": [
       "<div>\n",
       "<style scoped>\n",
       "    .dataframe tbody tr th:only-of-type {\n",
       "        vertical-align: middle;\n",
       "    }\n",
       "\n",
       "    .dataframe tbody tr th {\n",
       "        vertical-align: top;\n",
       "    }\n",
       "\n",
       "    .dataframe thead th {\n",
       "        text-align: right;\n",
       "    }\n",
       "</style>\n",
       "<table border=\"1\" class=\"dataframe\">\n",
       "  <thead>\n",
       "    <tr style=\"text-align: right;\">\n",
       "      <th></th>\n",
       "      <th>sse_wins</th>\n",
       "      <th>lasso_wins</th>\n",
       "    </tr>\n",
       "  </thead>\n",
       "  <tbody>\n",
       "    <tr>\n",
       "      <th>0.000000</th>\n",
       "      <td>0.000000</td>\n",
       "      <td>0.000000</td>\n",
       "    </tr>\n",
       "    <tr>\n",
       "      <th>0.005263</th>\n",
       "      <td>0.039062</td>\n",
       "      <td>0.125000</td>\n",
       "    </tr>\n",
       "    <tr>\n",
       "      <th>0.010526</th>\n",
       "      <td>0.093750</td>\n",
       "      <td>0.195312</td>\n",
       "    </tr>\n",
       "    <tr>\n",
       "      <th>0.015789</th>\n",
       "      <td>0.148438</td>\n",
       "      <td>0.226562</td>\n",
       "    </tr>\n",
       "    <tr>\n",
       "      <th>0.021053</th>\n",
       "      <td>0.226562</td>\n",
       "      <td>0.234375</td>\n",
       "    </tr>\n",
       "    <tr>\n",
       "      <th>0.026316</th>\n",
       "      <td>0.257812</td>\n",
       "      <td>0.257812</td>\n",
       "    </tr>\n",
       "    <tr>\n",
       "      <th>0.031579</th>\n",
       "      <td>0.273438</td>\n",
       "      <td>0.289062</td>\n",
       "    </tr>\n",
       "    <tr>\n",
       "      <th>0.036842</th>\n",
       "      <td>0.296875</td>\n",
       "      <td>0.320312</td>\n",
       "    </tr>\n",
       "    <tr>\n",
       "      <th>0.042105</th>\n",
       "      <td>0.304688</td>\n",
       "      <td>0.328125</td>\n",
       "    </tr>\n",
       "    <tr>\n",
       "      <th>0.047368</th>\n",
       "      <td>0.312500</td>\n",
       "      <td>0.320312</td>\n",
       "    </tr>\n",
       "    <tr>\n",
       "      <th>0.052632</th>\n",
       "      <td>0.367188</td>\n",
       "      <td>0.335938</td>\n",
       "    </tr>\n",
       "    <tr>\n",
       "      <th>0.057895</th>\n",
       "      <td>0.382812</td>\n",
       "      <td>0.328125</td>\n",
       "    </tr>\n",
       "    <tr>\n",
       "      <th>0.063158</th>\n",
       "      <td>0.382812</td>\n",
       "      <td>0.328125</td>\n",
       "    </tr>\n",
       "    <tr>\n",
       "      <th>0.068421</th>\n",
       "      <td>0.406250</td>\n",
       "      <td>0.335938</td>\n",
       "    </tr>\n",
       "    <tr>\n",
       "      <th>0.073684</th>\n",
       "      <td>0.414062</td>\n",
       "      <td>0.335938</td>\n",
       "    </tr>\n",
       "    <tr>\n",
       "      <th>0.078947</th>\n",
       "      <td>0.414062</td>\n",
       "      <td>0.343750</td>\n",
       "    </tr>\n",
       "    <tr>\n",
       "      <th>0.084211</th>\n",
       "      <td>0.421875</td>\n",
       "      <td>0.343750</td>\n",
       "    </tr>\n",
       "    <tr>\n",
       "      <th>0.089474</th>\n",
       "      <td>0.421875</td>\n",
       "      <td>0.343750</td>\n",
       "    </tr>\n",
       "    <tr>\n",
       "      <th>0.094737</th>\n",
       "      <td>0.429688</td>\n",
       "      <td>0.343750</td>\n",
       "    </tr>\n",
       "    <tr>\n",
       "      <th>0.100000</th>\n",
       "      <td>0.429688</td>\n",
       "      <td>0.359375</td>\n",
       "    </tr>\n",
       "  </tbody>\n",
       "</table>\n",
       "</div>"
      ],
      "text/plain": [
       "          sse_wins  lasso_wins\n",
       "0.000000  0.000000    0.000000\n",
       "0.005263  0.039062    0.125000\n",
       "0.010526  0.093750    0.195312\n",
       "0.015789  0.148438    0.226562\n",
       "0.021053  0.226562    0.234375\n",
       "0.026316  0.257812    0.257812\n",
       "0.031579  0.273438    0.289062\n",
       "0.036842  0.296875    0.320312\n",
       "0.042105  0.304688    0.328125\n",
       "0.047368  0.312500    0.320312\n",
       "0.052632  0.367188    0.335938\n",
       "0.057895  0.382812    0.328125\n",
       "0.063158  0.382812    0.328125\n",
       "0.068421  0.406250    0.335938\n",
       "0.073684  0.414062    0.335938\n",
       "0.078947  0.414062    0.343750\n",
       "0.084211  0.421875    0.343750\n",
       "0.089474  0.421875    0.343750\n",
       "0.094737  0.429688    0.343750\n",
       "0.100000  0.429688    0.359375"
      ]
     },
     "execution_count": 396,
     "metadata": {},
     "output_type": "execute_result"
    }
   ],
   "source": [
    "outcome_df"
   ]
  },
  {
   "cell_type": "code",
   "execution_count": 422,
   "metadata": {},
   "outputs": [],
   "source": [
    "single_lambda_df = pd.DataFrame(columns = ['alpha_ses','alpha_lasso','sse_ses','sse_lasso'])\n",
    "\n",
    "popular_product_index = sales_data[ sales_data.sum(axis = 1) > 1000].index\n",
    "\n",
    "for prod in popular_product_index:\n",
    "    oos_errors = []\n",
    "    alphas = []\n",
    "\n",
    "    Y = sales_data.loc[prod]\n",
    "    sample_size = len(Y)\n",
    "    Y_train = Y[0:round(sample_size/2.0)].values\n",
    "    Y_test = Y[round(sample_size/2.0):sample_size].values\n",
    "    DY = np.diff(Y_train)\n",
    "    scale = np.abs(np.sum(DY[:-1] * DY[1:]))\n",
    "\n",
    "\n",
    "    train_index = range(0,round(sample_size/2.0))\n",
    "    test_index = range(round(sample_size/2.0),sample_size)\n",
    "\n",
    "#         for penalty in [0,  lasso_penalty]:\n",
    "    for penalty in [0, scale*.1]:\n",
    "        train_alpha = minimal_alpha(Y_test, penalty, 100)\n",
    "        alphas.append(train_alpha)\n",
    "\n",
    "        exp_df = pd.DataFrame({'Y':Y,'exp':exp_smooth(Y,train_alpha)})\n",
    "        exp_df['exp'] = exp_df['exp'].shift(1) \n",
    "        exp_df = exp_df.reset_index()\n",
    "        test_sse = np.square(exp_df.loc[test_index]['Y'] - exp_df.loc[test_index]['exp']).sum()\n",
    "\n",
    "        alpha_list.append(train_alpha)\n",
    "        oos_errors.append(test_sse)\n",
    "\n",
    "    single_lambda_df.loc[prod] = alphas + oos_errors\n",
    "\n",
    "sse_wins = (1*(single_lambda_df['sse_ses'] < single_lambda_df['sse_lasso'])).sum()/len(single_lambda_df)\n",
    "lasso_wins = (1*(single_lambda_df['sse_ses'] > single_lambda_df['sse_lasso'])).sum()/len(single_lambda_df)"
   ]
  },
  {
   "cell_type": "code",
   "execution_count": 423,
   "metadata": {},
   "outputs": [
    {
     "data": {
      "text/plain": [
       "0.0"
      ]
     },
     "execution_count": 423,
     "metadata": {},
     "output_type": "execute_result"
    }
   ],
   "source": [
    "single_lambda_df['delta'] = (single_lambda_df['sse_ses'] - single_lambda_df['sse_lasso'])/single_lambda_df['sse_ses']\n",
    "single_lambda_df['delta'].median()"
   ]
  },
  {
   "cell_type": "code",
   "execution_count": 424,
   "metadata": {},
   "outputs": [
    {
     "data": {
      "text/plain": [
       "<matplotlib.axes._subplots.AxesSubplot at 0xf3071a8>"
      ]
     },
     "execution_count": 424,
     "metadata": {},
     "output_type": "execute_result"
    },
    {
     "data": {
      "image/png": "[encoded data removed]",
      "text/plain": [
       "<Figure size 432x288 with 1 Axes>"
      ]
     },
     "metadata": {
      "needs_background": "light"
     },
     "output_type": "display_data"
    }
   ],
   "source": [
    "single_lambda_df.plot.scatter(x='alpha_ses',y='alpha_lasso')"
   ]
  },
  {
   "cell_type": "code",
   "execution_count": 427,
   "metadata": {},
   "outputs": [
    {
     "data": {
      "text/plain": [
       "0.359375"
      ]
     },
     "execution_count": 427,
     "metadata": {},
     "output_type": "execute_result"
    }
   ],
   "source": []
  },
  {
   "cell_type": "code",
   "execution_count": null,
   "metadata": {},
   "outputs": [],
   "source": []
  }
 ],
 "metadata": {
  "kernelspec": {
   "display_name": "Python 3",
   "language": "python",
   "name": "python3"
  },
  "language_info": {
   "codemirror_mode": {
    "name": "ipython",
    "version": 3
   },
   "file_extension": ".py",
   "mimetype": "text/x-python",
   "name": "python",
   "nbconvert_exporter": "python",
   "pygments_lexer": "ipython3",
   "version": "3.8.3"
  }
 },
 "nbformat": 4,
 "nbformat_minor": 4
}
