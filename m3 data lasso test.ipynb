{
 "cells": [
  {
   "cell_type": "code",
   "execution_count": 114,
   "metadata": {},
   "outputs": [],
   "source": [
    "import numpy as np\n",
    "import pandas as pd\n",
    "import matplotlib.pyplot as plt"
   ]
  },
  {
   "cell_type": "code",
   "execution_count": 115,
   "metadata": {},
   "outputs": [],
   "source": [
    "# # sales_data = pd.read_excel('C:/Users/michelj8/Downloads/Sales_Transactions_Dataset_Weekly.xlsx',sheet_name = 'Sheet1')\n",
    "# sales_data = pd.read_excel('C:/Users/michelj8/Documents/GitHub/exp_smooth_lasso/Sales_Transactions_Dataset_Weekly.xlsx', sheet_name = 'Sheet1')\n",
    "# sales_data = sales_data.set_index('Product_Code')\n",
    "\n",
    "m3_df = pd.read_excel( 'C:/Users/michelj8/Documents/GitHub/exp_smooth_lasso/m3_data.xls', sheet_name = 'M3Year')"
   ]
  },
  {
   "cell_type": "code",
   "execution_count": 124,
   "metadata": {},
   "outputs": [],
   "source": [
    "m3_df = m3_df.query('Category == \"MACRO       \"')"
   ]
  },
  {
   "cell_type": "code",
   "execution_count": 131,
   "metadata": {},
   "outputs": [],
   "source": [
    "def exp_smooth(Y,alpha):\n",
    "    smooth = [Y[0]]\n",
    "    for t in range(1, len(Y)):\n",
    "        smooth.append( (1-alpha)*Y[t] + (alpha)* smooth[t-1])    \n",
    "    return smooth\n",
    "\n",
    "def objective(Y,alpha,penalty):\n",
    "    data = pd.DataFrame({'Y':Y, 'est':exp_smooth(Y,alpha)})\n",
    "    data['est'] = data['est'].shift(1)\n",
    "    data = data.dropna()\n",
    "    \n",
    "    sum_squares = np.square(data['Y'] - data['est']).sum() + penalty*abs(alpha)\n",
    "    return sum_squares\n",
    "\n",
    "def minimal_alpha(Y, penalty, grid_size):\n",
    "    alphas = np.linspace(0,1,grid_size)\n",
    "    \n",
    "    min_alpha = 0.0\n",
    "    min_obj = np.square( np.diff( np.array(Y)) ).sum()\n",
    "    \n",
    "    for alpha in alphas:\n",
    "        sum_squares = 0.0\n",
    "        forecast = Y[0]\n",
    "        \n",
    "        for t in range(1, len(Y)):\n",
    "            sum_squares = sum_squares + np.square(Y[t]-forecast)\n",
    "            forecast = (1-alpha)*Y[t] + alpha*forecast\n",
    "        \n",
    "        obj = sum_squares + penalty*alpha\n",
    "        \n",
    "        if obj < min_obj:\n",
    "            min_alpha = alpha\n",
    "            min_obj = obj\n",
    "            \n",
    "    return min_alpha"
   ]
  },
  {
   "cell_type": "markdown",
   "metadata": {},
   "source": [
    "# Alpha SES for all data"
   ]
  },
  {
   "cell_type": "code",
   "execution_count": 132,
   "metadata": {},
   "outputs": [
    {
     "data": {
      "text/plain": [
       "array([[<matplotlib.axes._subplots.AxesSubplot object at 0x0996F238>]],\n",
       "      dtype=object)"
      ]
     },
     "execution_count": 132,
     "metadata": {},
     "output_type": "execute_result"
    },
    {
     "data": {
      "image/png": "[encoded data removed]",
      "text/plain": [
       "<Figure size 432x288 with 1 Axes>"
      ]
     },
     "metadata": {
      "needs_background": "light"
     },
     "output_type": "display_data"
    }
   ],
   "source": [
    "min_alphas = []\n",
    "\n",
    "for index in m3_df.index:\n",
    "# for index in range(0, 10):\n",
    "    ts = m3_df.drop(columns = ['Series','N','NF','Category', 'Starting Year','Unnamed: 5']).loc[index].dropna()\n",
    "    ts = np.log(ts).diff(1).dropna().values\n",
    "#     ts = np.log(ts).dropna().values\n",
    "    min_alphas.append( minimal_alpha(ts,0.0, 50) )\n",
    "    \n",
    "pd.DataFrame(min_alphas).hist()"
   ]
  },
  {
   "cell_type": "markdown",
   "metadata": {},
   "source": [
    "## Analysis for all series"
   ]
  },
  {
   "cell_type": "code",
   "execution_count": 133,
   "metadata": {},
   "outputs": [],
   "source": [
    "test_df = pd.DataFrame(columns = ['alpha_ses','alpha_lasso','opt_lambda','sse_ses','sse_lasso'])\n",
    "\n",
    "\n",
    "for prod in m3_df.index:\n",
    "    Y = m3_df.drop(columns = ['Series','N','NF','Category', 'Starting Year','Unnamed: 5']).loc[prod].dropna()\n",
    "    Y = np.log(Y).diff(1).dropna().values \n",
    "#     Y = np.log(Y).dropna().values \n",
    "    sample_size = len(Y)\n",
    "\n",
    "    Y_train = Y[0:round(sample_size/2.5)]\n",
    "    Y_validate = Y[round(sample_size/2.5):2*round(sample_size/2.5)]\n",
    "    Y_test = Y[2*round(sample_size/2.5):]\n",
    "\n",
    "\n",
    "    train_index = range(0,round(sample_size/2.5))\n",
    "    validate_index = range(round(sample_size/2.5), 2* round(sample_size/2.5))\n",
    "    test_index = range(2*round(sample_size/2.5),sample_size)\n",
    "\n",
    "\n",
    "    penalty_list = np.linspace(0,.1,100)\n",
    "    # penalty_list = np.linspace(0,400,50)\n",
    "\n",
    "    cv_df = pd.DataFrame(columns =['penalty','train_alpha','validate_sse','test_sse'])\n",
    "    cv_df['penalty'] = penalty_list\n",
    "    cv_df = cv_df.set_index('penalty')\n",
    "\n",
    "    for pen in penalty_list:\n",
    "        train_alpha = minimal_alpha(Y_train,pen,200)\n",
    "\n",
    "        exp_df = pd.DataFrame({'Y':Y,'exp':exp_smooth(Y,train_alpha)})\n",
    "        exp_df['exp'] = exp_df['exp'].shift(1) \n",
    "        exp_df = exp_df.reset_index()\n",
    "\n",
    "        val_sse = np.square(exp_df.loc[validate_index]['Y'] - exp_df.loc[validate_index]['exp']).sum()\n",
    "        test_sse = np.square(exp_df.loc[test_index]['Y'] - exp_df.loc[test_index]['exp']).sum()\n",
    "\n",
    "        cv_df.loc[pen] = [train_alpha,val_sse,test_sse]\n",
    "\n",
    "    cv_df = cv_df.reset_index()\n",
    "\n",
    "\n",
    "    opt_lambda = cv_df[cv_df['validate_sse']== cv_df['validate_sse'].min()]['penalty'].values[0]\n",
    "\n",
    "    alpha_list = []\n",
    "    oos_error_list = []\n",
    "    for pen in [0.0, opt_lambda]:\n",
    "        train_alpha = minimal_alpha(np.append(Y_train,Y_validate),pen, 200)\n",
    "\n",
    "        exp_df = pd.DataFrame({'Y':Y,'exp':exp_smooth(Y,train_alpha)})\n",
    "        exp_df['exp'] = exp_df['exp'].shift(1) \n",
    "        exp_df = exp_df.reset_index()\n",
    "        test_sse = np.square(exp_df.loc[test_index]['Y'] - exp_df.loc[test_index]['exp']).sum()\n",
    "\n",
    "        alpha_list.append(train_alpha)\n",
    "        oos_error_list.append(test_sse)\n",
    "\n",
    "    \n",
    "    test_df.loc[prod] = alpha_list +[opt_lambda] +oos_error_list"
   ]
  },
  {
   "cell_type": "code",
   "execution_count": 134,
   "metadata": {},
   "outputs": [
    {
     "data": {
      "text/html": [
       "<div>\n",
       "<style scoped>\n",
       "    .dataframe tbody tr th:only-of-type {\n",
       "        vertical-align: middle;\n",
       "    }\n",
       "\n",
       "    .dataframe tbody tr th {\n",
       "        vertical-align: top;\n",
       "    }\n",
       "\n",
       "    .dataframe thead th {\n",
       "        text-align: right;\n",
       "    }\n",
       "</style>\n",
       "<table border=\"1\" class=\"dataframe\">\n",
       "  <thead>\n",
       "    <tr style=\"text-align: right;\">\n",
       "      <th></th>\n",
       "      <th>alpha_ses</th>\n",
       "      <th>alpha_lasso</th>\n",
       "      <th>opt_lambda</th>\n",
       "      <th>sse_ses</th>\n",
       "      <th>sse_lasso</th>\n",
       "    </tr>\n",
       "  </thead>\n",
       "  <tbody>\n",
       "    <tr>\n",
       "      <th>248</th>\n",
       "      <td>0.839196</td>\n",
       "      <td>0.839196</td>\n",
       "      <td>0.000000</td>\n",
       "      <td>0.002572</td>\n",
       "      <td>0.002572</td>\n",
       "    </tr>\n",
       "    <tr>\n",
       "      <th>249</th>\n",
       "      <td>0.708543</td>\n",
       "      <td>0.597990</td>\n",
       "      <td>0.003030</td>\n",
       "      <td>0.000774</td>\n",
       "      <td>0.000730</td>\n",
       "    </tr>\n",
       "    <tr>\n",
       "      <th>250</th>\n",
       "      <td>0.763819</td>\n",
       "      <td>0.763819</td>\n",
       "      <td>0.000000</td>\n",
       "      <td>0.003782</td>\n",
       "      <td>0.003782</td>\n",
       "    </tr>\n",
       "    <tr>\n",
       "      <th>251</th>\n",
       "      <td>0.618090</td>\n",
       "      <td>0.286432</td>\n",
       "      <td>0.002020</td>\n",
       "      <td>0.000850</td>\n",
       "      <td>0.000751</td>\n",
       "    </tr>\n",
       "    <tr>\n",
       "      <th>252</th>\n",
       "      <td>0.929648</td>\n",
       "      <td>0.000000</td>\n",
       "      <td>0.004040</td>\n",
       "      <td>0.001242</td>\n",
       "      <td>0.001180</td>\n",
       "    </tr>\n",
       "    <tr>\n",
       "      <th>...</th>\n",
       "      <td>...</td>\n",
       "      <td>...</td>\n",
       "      <td>...</td>\n",
       "      <td>...</td>\n",
       "      <td>...</td>\n",
       "    </tr>\n",
       "    <tr>\n",
       "      <th>326</th>\n",
       "      <td>0.894472</td>\n",
       "      <td>0.889447</td>\n",
       "      <td>0.004040</td>\n",
       "      <td>0.000668</td>\n",
       "      <td>0.000600</td>\n",
       "    </tr>\n",
       "    <tr>\n",
       "      <th>327</th>\n",
       "      <td>0.778894</td>\n",
       "      <td>0.763819</td>\n",
       "      <td>0.006061</td>\n",
       "      <td>0.011086</td>\n",
       "      <td>0.011197</td>\n",
       "    </tr>\n",
       "    <tr>\n",
       "      <th>328</th>\n",
       "      <td>0.984925</td>\n",
       "      <td>0.934673</td>\n",
       "      <td>0.046465</td>\n",
       "      <td>0.014764</td>\n",
       "      <td>0.011479</td>\n",
       "    </tr>\n",
       "    <tr>\n",
       "      <th>329</th>\n",
       "      <td>1.000000</td>\n",
       "      <td>1.000000</td>\n",
       "      <td>0.000000</td>\n",
       "      <td>0.008948</td>\n",
       "      <td>0.008948</td>\n",
       "    </tr>\n",
       "    <tr>\n",
       "      <th>330</th>\n",
       "      <td>1.000000</td>\n",
       "      <td>1.000000</td>\n",
       "      <td>0.000000</td>\n",
       "      <td>0.005605</td>\n",
       "      <td>0.005605</td>\n",
       "    </tr>\n",
       "  </tbody>\n",
       "</table>\n",
       "<p>83 rows × 5 columns</p>\n",
       "</div>"
      ],
      "text/plain": [
       "     alpha_ses  alpha_lasso  opt_lambda   sse_ses  sse_lasso\n",
       "248   0.839196     0.839196    0.000000  0.002572   0.002572\n",
       "249   0.708543     0.597990    0.003030  0.000774   0.000730\n",
       "250   0.763819     0.763819    0.000000  0.003782   0.003782\n",
       "251   0.618090     0.286432    0.002020  0.000850   0.000751\n",
       "252   0.929648     0.000000    0.004040  0.001242   0.001180\n",
       "..         ...          ...         ...       ...        ...\n",
       "326   0.894472     0.889447    0.004040  0.000668   0.000600\n",
       "327   0.778894     0.763819    0.006061  0.011086   0.011197\n",
       "328   0.984925     0.934673    0.046465  0.014764   0.011479\n",
       "329   1.000000     1.000000    0.000000  0.008948   0.008948\n",
       "330   1.000000     1.000000    0.000000  0.005605   0.005605\n",
       "\n",
       "[83 rows x 5 columns]"
      ]
     },
     "execution_count": 134,
     "metadata": {},
     "output_type": "execute_result"
    }
   ],
   "source": [
    "test_df"
   ]
  },
  {
   "cell_type": "code",
   "execution_count": 161,
   "metadata": {},
   "outputs": [
    {
     "data": {
      "text/plain": [
       "0.0"
      ]
     },
     "execution_count": 161,
     "metadata": {},
     "output_type": "execute_result"
    }
   ],
   "source": [
    "minimal_alpha(Y,0.2,100)"
   ]
  },
  {
   "cell_type": "code",
   "execution_count": 135,
   "metadata": {},
   "outputs": [
    {
     "data": {
      "text/plain": [
       "<matplotlib.axes._subplots.AxesSubplot at 0x9970808>"
      ]
     },
     "execution_count": 135,
     "metadata": {},
     "output_type": "execute_result"
    },
    {
     "data": {
      "image/png": "[encoded data removed]",
      "text/plain": [
       "<Figure size 432x288 with 1 Axes>"
      ]
     },
     "metadata": {
      "needs_background": "light"
     },
     "output_type": "display_data"
    }
   ],
   "source": [
    "test_df['sse_delta'] = (test_df['sse_ses'] - test_df['sse_lasso'])\n",
    "test_df['sse_delta'].hist()"
   ]
  },
  {
   "cell_type": "code",
   "execution_count": 136,
   "metadata": {},
   "outputs": [
    {
     "data": {
      "text/plain": [
       "<matplotlib.axes._subplots.AxesSubplot at 0xb0c16a0>"
      ]
     },
     "execution_count": 136,
     "metadata": {},
     "output_type": "execute_result"
    },
    {
     "data": {
      "image/png": "[encoded data removed]",
      "text/plain": [
       "<Figure size 1152x576 with 1 Axes>"
      ]
     },
     "metadata": {
      "needs_background": "light"
     },
     "output_type": "display_data"
    }
   ],
   "source": [
    "fig, ax = plt.subplots(figsize = (16,8))\n",
    "\n",
    "(test_df['sse_delta']/test_df['sse_ses']).hist(ax = ax)"
   ]
  },
  {
   "cell_type": "code",
   "execution_count": 165,
   "metadata": {},
   "outputs": [
    {
     "data": {
      "text/plain": [
       "0.20481927710843373"
      ]
     },
     "execution_count": 165,
     "metadata": {},
     "output_type": "execute_result"
    }
   ],
   "source": [
    "len(test_df.query('sse_delta < 0'))/len(test_df)"
   ]
  },
  {
   "cell_type": "code",
   "execution_count": 166,
   "metadata": {},
   "outputs": [
    {
     "data": {
      "text/plain": [
       "0.3493975903614458"
      ]
     },
     "execution_count": 166,
     "metadata": {},
     "output_type": "execute_result"
    }
   ],
   "source": [
    "len(test_df.query('sse_delta > 0'))/len(test_df)"
   ]
  },
  {
   "cell_type": "code",
   "execution_count": 167,
   "metadata": {},
   "outputs": [
    {
     "data": {
      "text/plain": [
       "0.4457831325301205"
      ]
     },
     "execution_count": 167,
     "metadata": {},
     "output_type": "execute_result"
    }
   ],
   "source": [
    "len(test_df.query('sse_delta == 0'))/len(test_df)"
   ]
  },
  {
   "cell_type": "code",
   "execution_count": 140,
   "metadata": {},
   "outputs": [
    {
     "data": {
      "text/plain": [
       "<matplotlib.axes._subplots.AxesSubplot at 0xaabfd18>"
      ]
     },
     "execution_count": 140,
     "metadata": {},
     "output_type": "execute_result"
    },
    {
     "data": {
      "image/png": "[encoded data removed]",
      "text/plain": [
       "<Figure size 432x288 with 1 Axes>"
      ]
     },
     "metadata": {
      "needs_background": "light"
     },
     "output_type": "display_data"
    }
   ],
   "source": [
    "test_df['opt_lambda'].hist()"
   ]
  },
  {
   "cell_type": "code",
   "execution_count": 141,
   "metadata": {},
   "outputs": [
    {
     "data": {
      "text/plain": [
       "<matplotlib.axes._subplots.AxesSubplot at 0xaa95fe8>"
      ]
     },
     "execution_count": 141,
     "metadata": {},
     "output_type": "execute_result"
    },
    {
     "data": {
      "image/png": "[encoded data removed]",
      "text/plain": [
       "<Figure size 432x288 with 1 Axes>"
      ]
     },
     "metadata": {
      "needs_background": "light"
     },
     "output_type": "display_data"
    }
   ],
   "source": [
    "(test_df['alpha_ses'] - test_df['alpha_lasso']).hist()"
   ]
  },
  {
   "cell_type": "code",
   "execution_count": 142,
   "metadata": {},
   "outputs": [
    {
     "data": {
      "text/plain": [
       "<matplotlib.axes._subplots.AxesSubplot at 0xaa98550>"
      ]
     },
     "execution_count": 142,
     "metadata": {},
     "output_type": "execute_result"
    },
    {
     "data": {
      "image/png": "[encoded data removed]",
      "text/plain": [
       "<Figure size 1152x576 with 1 Axes>"
      ]
     },
     "metadata": {
      "needs_background": "light"
     },
     "output_type": "display_data"
    }
   ],
   "source": [
    "fig, ax = plt.subplots(figsize = (16,8))\n",
    "\n",
    "test_df.plot.scatter(x='alpha_ses',y='alpha_lasso', ax = ax)"
   ]
  },
  {
   "cell_type": "code",
   "execution_count": 143,
   "metadata": {},
   "outputs": [
    {
     "data": {
      "text/plain": [
       "[Text(0, 0, '.4'),\n",
       " Text(0, 0, '.5'),\n",
       " Text(0, 0, '.6'),\n",
       " Text(0, 0, '.7'),\n",
       " Text(0, 0, '.8'),\n",
       " Text(0, 0, '.9'),\n",
       " Text(0, 0, '1')]"
      ]
     },
     "execution_count": 143,
     "metadata": {},
     "output_type": "execute_result"
    },
    {
     "data": {
      "image/png": "[encoded data removed]",
      "text/plain": [
       "<Figure size 1152x576 with 1 Axes>"
      ]
     },
     "metadata": {
      "needs_background": "light"
     },
     "output_type": "display_data"
    }
   ],
   "source": [
    "test_df['ses_bucket']=  test_df['alpha_ses'].apply(lambda s: round(10*s))\n",
    "test_df['penalized'] = 1*(test_df['opt_lambda']>0)\n",
    "\n",
    "fig, ax = plt.subplots(figsize = (16,8))\n",
    "test_df[['ses_bucket','penalized']].groupby('ses_bucket').mean().plot(ax = ax)\n",
    "\n",
    "ax.legend(['Percent Penalized'])\n",
    "ax.set_xlabel('SES Alpha')\n",
    "\n",
    "labels = [item.get_text() for item in ax.get_xticklabels()]\n",
    "labels = ['.4','.5','.6','.7','.8','.9','1']\n",
    "ax.set_xticklabels(labels)"
   ]
  },
  {
   "cell_type": "code",
   "execution_count": 144,
   "metadata": {},
   "outputs": [
    {
     "data": {
      "text/plain": [
       "<matplotlib.axes._subplots.AxesSubplot at 0xaa46ec8>"
      ]
     },
     "execution_count": 144,
     "metadata": {},
     "output_type": "execute_result"
    },
    {
     "data": {
      "image/png": "[encoded data removed]",
      "text/plain": [
       "<Figure size 432x288 with 1 Axes>"
      ]
     },
     "metadata": {
      "needs_background": "light"
     },
     "output_type": "display_data"
    }
   ],
   "source": [
    "test_df.plot.scatter(x='opt_lambda',y='sse_delta')"
   ]
  },
  {
   "cell_type": "code",
   "execution_count": 162,
   "metadata": {},
   "outputs": [
    {
     "data": {
      "text/plain": [
       "83"
      ]
     },
     "execution_count": 162,
     "metadata": {},
     "output_type": "execute_result"
    }
   ],
   "source": [
    "len(m3_df)"
   ]
  },
  {
   "cell_type": "markdown",
   "metadata": {},
   "source": [
    "# Multistep forecasts"
   ]
  },
  {
   "cell_type": "code",
   "execution_count": 149,
   "metadata": {},
   "outputs": [],
   "source": [
    "multi_step_df = pd.DataFrame(columns = range(1,7))\n",
    "\n",
    "for prod in m3_df.index:\n",
    "    Y = m3_df.drop(columns = ['Series','N','NF','Category', 'Starting Year','Unnamed: 5']).loc[prod].dropna()\n",
    "    Y = np.log(Y).diff(1).dropna().values \n",
    "    sample_size = len(Y)\n",
    "    test_index = range(2*round(sample_size/2.5),sample_size)\n",
    "\n",
    "\n",
    "    alpha_ses = test_df.loc[prod,'alpha_ses']\n",
    "    alpha_lasso = test_df.loc[prod,'alpha_lasso']\n",
    "    \n",
    "    for h in range(1,7):\n",
    "        ses_exp_df = pd.DataFrame({'Y':Y,'exp':exp_smooth(Y,alpha_ses)})\n",
    "        ses_exp_df['exp'] = ses_exp_df['exp'].shift(h) \n",
    "        ses_exp_df = ses_exp_df.reset_index() \n",
    "        ses_error = np.square(ses_exp_df.loc[test_index]['Y'] - ses_exp_df.loc[test_index]['exp']).sum()\n",
    "        \n",
    "        lasso_exp_df = pd.DataFrame({'Y':Y,'exp':exp_smooth(Y,alpha_lasso)})\n",
    "        lasso_exp_df['exp'] = lasso_exp_df['exp'].shift(h) \n",
    "        lasso_exp_df= lasso_exp_df.reset_index()\n",
    "        lasso_error = np.square(lasso_exp_df.loc[test_index]['Y'] - lasso_exp_df.loc[test_index]['exp']).sum()\n",
    "        \n",
    "        multi_step_df.loc[prod,h] =  (ses_error - lasso_error)"
   ]
  },
  {
   "cell_type": "code",
   "execution_count": 150,
   "metadata": {},
   "outputs": [
    {
     "name": "stdout",
     "output_type": "stream",
     "text": [
      "1\n",
      "0.3493975903614458 0.7951807228915663\n",
      "\n",
      "2\n",
      "0.14457831325301204 0.5903614457831325\n",
      "\n",
      "3\n",
      "0.12048192771084337 0.5662650602409639\n",
      "\n",
      "4\n",
      "0.18072289156626506 0.6265060240963856\n",
      "\n",
      "5\n",
      "0.21686746987951808 0.6626506024096386\n",
      "\n",
      "6\n",
      "0.18072289156626506 0.6265060240963856\n",
      "\n"
     ]
    }
   ],
   "source": [
    "for h in range(1,7):\n",
    "    print(h)\n",
    "    print(sum(1*(multi_step_df[h] > 0))/len(multi_step_df), sum(1*(multi_step_df[h] >= 0))/len(multi_step_df))\n",
    "    print()"
   ]
  },
  {
   "cell_type": "code",
   "execution_count": null,
   "metadata": {},
   "outputs": [],
   "source": []
  }
 ],
 "metadata": {
  "kernelspec": {
   "display_name": "Python 3",
   "language": "python",
   "name": "python3"
  },
  "language_info": {
   "codemirror_mode": {
    "name": "ipython",
    "version": 3
   },
   "file_extension": ".py",
   "mimetype": "text/x-python",
   "name": "python",
   "nbconvert_exporter": "python",
   "pygments_lexer": "ipython3",
   "version": "3.8.3"
  }
 },
 "nbformat": 4,
 "nbformat_minor": 4
}
