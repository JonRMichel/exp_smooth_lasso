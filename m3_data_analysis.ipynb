{
 "cells": [
  {
   "cell_type": "code",
   "execution_count": 1,
   "metadata": {},
   "outputs": [],
   "source": [
    "import numpy as np\n",
    "import pandas as pd\n",
    "import matplotlib.pyplot as plt"
   ]
  },
  {
   "cell_type": "code",
   "execution_count": 2,
   "metadata": {},
   "outputs": [],
   "source": [
    "m3_df = pd.read_excel( 'C:/Users/michelj8/Downloads/M3C.xlsx', sheet_name = 'M3Year')"
   ]
  },
  {
   "cell_type": "code",
   "execution_count": 3,
   "metadata": {},
   "outputs": [],
   "source": [
    "def exp_smooth(Y,alpha):\n",
    "    smooth = [Y[0]]\n",
    "    for t in range(1, len(Y)):\n",
    "        smooth.append( (1-alpha)*Y[t] + (alpha)* smooth[t-1])    \n",
    "    return smooth\n",
    "\n",
    "def objective(Y,alpha,penalty):\n",
    "    data = pd.DataFrame({'Y':Y, 'est':exp_smooth(Y,alpha)})\n",
    "    data['est'] = data['est'].shift(1)\n",
    "    data = data.dropna()\n",
    "    \n",
    "    sum_squares = np.square(data['Y'] - data['est']).sum() + penalty*abs(alpha)\n",
    "    return sum_squares\n",
    "\n",
    "def minimal_alpha(Y, penalty, grid_size):\n",
    "    alphas = np.linspace(0,1,grid_size)\n",
    "    \n",
    "    min_alpha = 0.0\n",
    "    min_obj = np.square( np.diff( np.array(Y)) ).sum()\n",
    "    \n",
    "    for alpha in alphas:\n",
    "        sum_squares = 0.0\n",
    "        forecast = Y[0]\n",
    "        \n",
    "        for t in range(1, len(Y)):\n",
    "            sum_squares = sum_squares + np.square(Y[t]-forecast)\n",
    "            forecast = (1-alpha)*Y[t] + alpha*forecast\n",
    "        \n",
    "        obj = sum_squares + penalty*alpha\n",
    "        \n",
    "        if obj < min_obj:\n",
    "            min_alpha = alpha\n",
    "            min_obj = obj\n",
    "            \n",
    "    return min_alpha"
   ]
  },
  {
   "cell_type": "code",
   "execution_count": 46,
   "metadata": {},
   "outputs": [
    {
     "data": {
      "text/plain": [
       "array([[<matplotlib.axes._subplots.AxesSubplot object at 0x00000246862CEE50>]],\n",
       "      dtype=object)"
      ]
     },
     "execution_count": 46,
     "metadata": {},
     "output_type": "execute_result"
    },
    {
     "data": {
      "image/png": "[encoded data removed]",
      "text/plain": [
       "<Figure size 432x288 with 1 Axes>"
      ]
     },
     "metadata": {
      "needs_background": "light"
     },
     "output_type": "display_data"
    }
   ],
   "source": [
    "min_alphas = []\n",
    "\n",
    "for index in range(0,len(m3_df)):\n",
    "# for index in range(0, 10):\n",
    "    ts = m3_df.drop(columns = ['Series','N','NF','Category', 'Starting Year','Unnamed: 5']).loc[index].dropna()\n",
    "    ts = ts.values\n",
    "    min_alphas.append( minimal_alpha(ts,0.0, 50) )\n",
    "    \n",
    "pd.DataFrame(min_alphas).hist()"
   ]
  },
  {
   "cell_type": "code",
   "execution_count": 45,
   "metadata": {},
   "outputs": [
    {
     "data": {
      "text/plain": [
       "array([[<matplotlib.axes._subplots.AxesSubplot object at 0x00000246862E6370>]],\n",
       "      dtype=object)"
      ]
     },
     "execution_count": 45,
     "metadata": {},
     "output_type": "execute_result"
    },
    {
     "data": {
      "image/png": "[encoded data removed]",
      "text/plain": [
       "<Figure size 432x288 with 1 Axes>"
      ]
     },
     "metadata": {
      "needs_background": "light"
     },
     "output_type": "display_data"
    }
   ],
   "source": [
    "min_alphas = []\n",
    "\n",
    "for index in range(0,len(m3_df)):\n",
    "# for index in range(0, 10):\n",
    "    ts = m3_df.drop(columns = ['Series','N','NF','Category', 'Starting Year','Unnamed: 5']).loc[index].dropna()\n",
    "    ts = np.log(ts).values\n",
    "    min_alphas.append( minimal_alpha(ts,0.0, 50) )\n",
    "    \n",
    "pd.DataFrame(min_alphas).hist()"
   ]
  },
  {
   "cell_type": "code",
   "execution_count": 47,
   "metadata": {},
   "outputs": [
    {
     "data": {
      "text/plain": [
       "array([[<matplotlib.axes._subplots.AxesSubplot object at 0x00000246863725B0>]],\n",
       "      dtype=object)"
      ]
     },
     "execution_count": 47,
     "metadata": {},
     "output_type": "execute_result"
    },
    {
     "data": {
      "image/png": "[encoded data removed]",
      "text/plain": [
       "<Figure size 432x288 with 1 Axes>"
      ]
     },
     "metadata": {
      "needs_background": "light"
     },
     "output_type": "display_data"
    }
   ],
   "source": [
    "min_alphas = []\n",
    "\n",
    "for index in range(0,len(m3_df)):\n",
    "# for index in range(0,50):\n",
    "    ts = m3_df.drop(columns = ['Series','N','NF','Category', 'Starting Year','Unnamed: 5']).loc[index].dropna()\n",
    "    ts = np.diff(np.log(ts))\n",
    "    min_alphas.append( minimal_alpha(ts,0.0, 50) )\n",
    "    \n",
    "pd.DataFrame(min_alphas).hist()"
   ]
  },
  {
   "cell_type": "code",
   "execution_count": 50,
   "metadata": {},
   "outputs": [],
   "source": [
    "def minimal_alpha_beta(Y, grid_size):\n",
    "    alphas = np.linspace(0,1,grid_size)\n",
    "    betas = np.linspace(0,1,grid_size)\n",
    "    \n",
    "    min_alpha = 0.0\n",
    "    min_beta = 0.0\n",
    "    min_obj = np.square( np.diff( np.array(Y)) ).sum()\n",
    "    \n",
    "    for alpha in alphas:\n",
    "        for beta in betas:\n",
    "            sum_squares = 0.0\n",
    "            level = Y[0]\n",
    "            trend = 0.0\n",
    "\n",
    "            for t in range(1, len(Y)):\n",
    "                sum_squares = sum_squares + np.square(Y[t]-level-trend)\n",
    "                old_level = level \n",
    "                level = (1-alpha)*Y[t]+alpha*(level + trend)\n",
    "                trend = beta*(level - old_level )+(1-beta)*trend\n",
    "                \n",
    "            obj = sum_squares \n",
    "\n",
    "            if obj < min_obj:\n",
    "                min_alpha = alpha\n",
    "                min_beta = beta\n",
    "                min_obj = obj\n",
    "            \n",
    "    return [min_alpha,min_beta]"
   ]
  },
  {
   "cell_type": "code",
   "execution_count": 55,
   "metadata": {},
   "outputs": [
    {
     "data": {
      "text/plain": [
       "1.0"
      ]
     },
     "execution_count": 55,
     "metadata": {},
     "output_type": "execute_result"
    }
   ],
   "source": [
    "ts = m3_df.drop(columns = ['Series','N','NF','Category', 'Starting Year','Unnamed: 5']).loc[index].dropna()\n",
    "ts = np.log(ts).values\n",
    "\n",
    "minimal_alpha_beta(ts,10)"
   ]
  },
  {
   "cell_type": "code",
   "execution_count": 59,
   "metadata": {},
   "outputs": [
    {
     "data": {
      "text/plain": [
       "array([[<matplotlib.axes._subplots.AxesSubplot object at 0x0000024684113DC0>]],\n",
       "      dtype=object)"
      ]
     },
     "execution_count": 59,
     "metadata": {},
     "output_type": "execute_result"
    },
    {
     "data": {
      "image/png": "[encoded data removed]",
      "text/plain": [
       "<Figure size 432x288 with 1 Axes>"
      ]
     },
     "metadata": {
      "needs_background": "light"
     },
     "output_type": "display_data"
    },
    {
     "data": {
      "image/png": "[encoded data removed]",
      "text/plain": [
       "<Figure size 432x288 with 1 Axes>"
      ]
     },
     "metadata": {
      "needs_background": "light"
     },
     "output_type": "display_data"
    }
   ],
   "source": [
    "min_alphas = []\n",
    "min_betas = []\n",
    "\n",
    "for index in range(0,len(m3_df)):\n",
    "# for index in range(0, 10):\n",
    "    ts = m3_df.drop(columns = ['Series','N','NF','Category', 'Starting Year','Unnamed: 5']).loc[index].dropna()\n",
    "    ts = np.log(ts).values\n",
    "    min_params =  minimal_alpha_beta(ts,20) \n",
    "    \n",
    "    min_alphas.append(min_params[0])\n",
    "    min_betas.append(min_params[1])\n",
    "    \n",
    "\n",
    "pd.DataFrame(min_alphas).hist()\n",
    "pd.DataFrame(min_betas).hist()"
   ]
  },
  {
   "cell_type": "code",
   "execution_count": 68,
   "metadata": {},
   "outputs": [
    {
     "data": {
      "text/plain": [
       "array([[<matplotlib.axes._subplots.AxesSubplot object at 0x0000024686319850>]],\n",
       "      dtype=object)"
      ]
     },
     "execution_count": 68,
     "metadata": {},
     "output_type": "execute_result"
    },
    {
     "data": {
      "image/png": "[encoded data removed]",
      "text/plain": [
       "<Figure size 432x288 with 1 Axes>"
      ]
     },
     "metadata": {
      "needs_background": "light"
     },
     "output_type": "display_data"
    },
    {
     "data": {
      "image/png": "[encoded data removed]",
      "text/plain": [
       "<Figure size 432x288 with 1 Axes>"
      ]
     },
     "metadata": {
      "needs_background": "light"
     },
     "output_type": "display_data"
    }
   ],
   "source": [
    "min_alphas = []\n",
    "min_betas = []\n",
    "\n",
    "for index in range(0,1000):\n",
    "    ts = np.random.normal(0,1,25).cumsum()\n",
    "    min_params =  minimal_alpha_beta(ts,20) \n",
    "    \n",
    "    min_alphas.append(min_params[0])\n",
    "    min_betas.append(min_params[1])\n",
    "    \n",
    "\n",
    "pd.DataFrame(min_alphas).hist()\n",
    "pd.DataFrame(min_betas).hist()\n",
    "(1*(pd.DataFrame(min_betas) > 0.0)).sum()/len(min_betas)"
   ]
  },
  {
   "cell_type": "code",
   "execution_count": 79,
   "metadata": {},
   "outputs": [
    {
     "data": {
      "text/plain": [
       "0    0.477\n",
       "dtype: float64"
      ]
     },
     "execution_count": 79,
     "metadata": {},
     "output_type": "execute_result"
    },
    {
     "data": {
      "image/png": "[encoded data removed]",
      "text/plain": [
       "<Figure size 432x288 with 1 Axes>"
      ]
     },
     "metadata": {
      "needs_background": "light"
     },
     "output_type": "display_data"
    }
   ],
   "source": [
    "min_alphas = []\n",
    "\n",
    "for index in range(0,1000):\n",
    "    ts = np.random.normal(0,1,25).cumsum()\n",
    "    min_alphas.append(minimal_alpha(ts,0.0, 50))\n",
    "\n",
    "pd.DataFrame(min_alphas).hist()\n",
    "(1*(pd.DataFrame(min_alphas) > 0.0)).sum()/len(min_alphas)"
   ]
  },
  {
   "cell_type": "code",
   "execution_count": null,
   "metadata": {},
   "outputs": [],
   "source": []
  }
 ],
 "metadata": {
  "kernelspec": {
   "display_name": "Python 3",
   "language": "python",
   "name": "python3"
  },
  "language_info": {
   "codemirror_mode": {
    "name": "ipython",
    "version": 3
   },
   "file_extension": ".py",
   "mimetype": "text/x-python",
   "name": "python",
   "nbconvert_exporter": "python",
   "pygments_lexer": "ipython3",
   "version": "3.8.3"
  }
 },
 "nbformat": 4,
 "nbformat_minor": 4
}
