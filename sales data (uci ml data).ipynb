{
 "cells": [
  {
   "cell_type": "code",
   "execution_count": 1,
   "metadata": {},
   "outputs": [],
   "source": [
    "import numpy as np\n",
    "import pandas as pd"
   ]
  },
  {
   "cell_type": "code",
   "execution_count": 11,
   "metadata": {},
   "outputs": [],
   "source": [
    "sales_data = pd.read_excel('C:/Users/michelj8/Downloads/Sales_Transactions_Dataset_Weekly.xlsx',sheet_name = 'Sheet1')\n",
    "sales_data = sales_data.set_index('Product_Code')"
   ]
  },
  {
   "cell_type": "code",
   "execution_count": 16,
   "metadata": {},
   "outputs": [],
   "source": [
    "def exp_smooth(Y,alpha):\n",
    "    smooth = [Y[1]]\n",
    "    for t in range(1, len(Y)):\n",
    "        smooth.append( (1-alpha)*Y[t] + (alpha)* smooth[t-1])    \n",
    "    return smooth\n",
    "\n",
    "def objective(Y,alpha,penalty):\n",
    "    data = pd.DataFrame({'Y':Y, 'est':exp_smooth(Y,alpha)})\n",
    "    data['est'] = data['est'].shift(1)\n",
    "    data = data.dropna()\n",
    "    \n",
    "    sum_squares = np.square(data['Y'] - data['est']).sum() + penalty*abs(alpha)\n",
    "    return sum_squares\n",
    "\n",
    "def minimal_alpha(Y, penalty):\n",
    "    obj_df = pd.DataFrame(columns = ['alpha','value'])\n",
    "    \n",
    "    obj_df['alpha'] = np.linspace(0,1,100)\n",
    "    obj_df['value'] = obj_df['alpha'].apply(lambda s: objective(Y,s,penalty))\n",
    "    \n",
    "    min_val = obj_df['value'].min()\n",
    "    return obj_df.set_index('value').loc[min_val,'alpha']"
   ]
  },
  {
   "cell_type": "markdown",
   "metadata": {},
   "source": [
    "# Alpha SES for all data"
   ]
  },
  {
   "cell_type": "code",
   "execution_count": 30,
   "metadata": {},
   "outputs": [],
   "source": [
    "alpha_df = pd.DataFrame( columns = ['product','alpha'])\n",
    "alpha_df['product'] = sales_data.index.values\n",
    "alpha_df['alpha'] = alpha_df['product'].apply(lambda s: minimal_alpha(sales_data.loc[s],0.0) )"
   ]
  },
  {
   "cell_type": "code",
   "execution_count": 34,
   "metadata": {},
   "outputs": [
    {
     "data": {
      "text/plain": [
       "<matplotlib.axes._subplots.AxesSubplot at 0x19b353f93a0>"
      ]
     },
     "execution_count": 34,
     "metadata": {},
     "output_type": "execute_result"
    },
    {
     "data": {
      "image/png": "[encoded data removed]",
      "text/plain": [
       "<Figure size 432x288 with 1 Axes>"
      ]
     },
     "metadata": {
      "needs_background": "light"
     },
     "output_type": "display_data"
    }
   ],
   "source": [
    "alpha_df['alpha'].hist()"
   ]
  },
  {
   "cell_type": "code",
   "execution_count": 37,
   "metadata": {},
   "outputs": [
    {
     "data": {
      "text/plain": [
       "0.016029593094944512"
      ]
     },
     "execution_count": 37,
     "metadata": {},
     "output_type": "execute_result"
    }
   ],
   "source": [
    "len(alpha_df.query('alpha < .5'))/len(alpha_df)"
   ]
  },
  {
   "cell_type": "markdown",
   "metadata": {},
   "source": [
    "# LASSO Analysis for 1"
   ]
  },
  {
   "cell_type": "code",
   "execution_count": 194,
   "metadata": {},
   "outputs": [],
   "source": [
    "# Y = sales_data.loc['P500']\n",
    "# sample_size = len(Y)\n",
    "\n",
    "# Y_train = Y[0:round(sample_size/2.5)].values\n",
    "# Y_validate = Y[round(sample_size/2.5):2*round(sample_size/2.5)].values\n",
    "# Y_test = Y[2*round(sample_size/2.5):].values\n",
    "\n",
    "# train_index = range(0,round(sample_size/2.5))\n",
    "# validate_index = range(round(sample_size/2.5), 2* round(sample_size/2.5))\n",
    "# test_index = range(2*round(sample_size/2.5),sample_size)\n",
    "\n",
    "# # penalty_list = np.linspace(0,750,10)\n",
    "# penalty_list = np.linspace(0,450,50)\n",
    "\n",
    "# cv_df = pd.DataFrame(columns =['penalty','train_alpha','validate_sse','test_sse'])\n",
    "# cv_df['penalty'] = penalty_list\n",
    "# cv_df = cv_df.set_index('penalty')\n",
    "\n",
    "# for pen in penalty_list:\n",
    "#     train_alpha = minimal_alpha(Y_train,pen)\n",
    "    \n",
    "#     exp_df = pd.DataFrame({'Y':Y,'exp':exp_smooth(Y,train_alpha)})\n",
    "#     exp_df['exp'] = exp_df['exp'].shift(1) \n",
    "#     exp_df = exp_df.reset_index()\n",
    "    \n",
    "#     val_sse = np.square(exp_df.loc[validate_index]['Y'] - exp_df.loc[validate_index]['exp']).sum()\n",
    "#     test_sse = np.square(exp_df.loc[test_index]['Y'] - exp_df.loc[test_index]['exp']).sum()\n",
    "    \n",
    "#     cv_df.loc[pen] = [train_alpha,val_sse,test_sse]\n",
    "    \n",
    "# cv_df = cv_df.reset_index()"
   ]
  },
  {
   "cell_type": "code",
   "execution_count": 305,
   "metadata": {},
   "outputs": [],
   "source": [
    "Y = sales_data.loc['P16']\n",
    "sample_size = len(Y)\n",
    "\n",
    "Y_train = Y[0:round(sample_size/2.5)].values\n",
    "Y_validate = Y[round(sample_size/2.5):2*round(sample_size/2.5)].values\n",
    "Y_test = Y[2*round(sample_size/2.5):].values\n",
    "\n",
    "train_index = range(0,round(sample_size/2.5))\n",
    "validate_index = range(round(sample_size/2.5), 2* round(sample_size/2.5))\n",
    "test_index = range(2*round(sample_size/2.5),sample_size)\n",
    "\n",
    "penalty_list = np.linspace(0,750,50)\n",
    "# penalty_list = np.linspace(0,400,50)\n",
    "\n",
    "cv_df = pd.DataFrame(columns =['penalty','train_alpha','validate_sse','test_sse'])\n",
    "cv_df['penalty'] = penalty_list\n",
    "cv_df = cv_df.set_index('penalty')\n",
    "\n",
    "for pen in penalty_list:\n",
    "    train_alpha = minimal_alpha(Y_train,pen)\n",
    "    \n",
    "    exp_df = pd.DataFrame({'Y':Y,'exp':exp_smooth(Y,train_alpha)})\n",
    "    exp_df['exp'] = exp_df['exp'].shift(1) \n",
    "    exp_df = exp_df.reset_index()\n",
    "    \n",
    "    val_sse = np.square(exp_df.loc[validate_index]['Y'] - exp_df.loc[validate_index]['exp']).sum()\n",
    "    test_sse = np.square(exp_df.loc[test_index]['Y'] - exp_df.loc[test_index]['exp']).sum()\n",
    "    \n",
    "    cv_df.loc[pen] = [train_alpha,val_sse,test_sse]\n",
    "    \n",
    "cv_df = cv_df.reset_index()\n",
    "\n",
    "\n",
    "opt_lambda = cv_df[cv_df['validate_sse']== cv_df['validate_sse'].min()]['penalty'].values[0]\n",
    "\n",
    "alpha_list = []\n",
    "oos_error_list = []\n",
    "for pen in [0.0, opt_lambda]:\n",
    "    train_alpha = minimal_alpha(np.append(Y_train,Y_validate),pen)\n",
    "    \n",
    "    exp_df = pd.DataFrame({'Y':Y,'exp':exp_smooth(Y,train_alpha)})\n",
    "    exp_df['exp'] = exp_df['exp'].shift(1) \n",
    "    exp_df = exp_df.reset_index()\n",
    "    test_sse = np.square(exp_df.loc[test_index]['Y'] - exp_df.loc[test_index]['exp']).sum()\n",
    "    \n",
    "    alpha_list.append(train_alpha)\n",
    "    oos_error_list.append(test_sse)"
   ]
  },
  {
   "cell_type": "code",
   "execution_count": 306,
   "metadata": {
    "scrolled": true
   },
   "outputs": [
    {
     "data": {
      "text/html": [
       "<div>\n",
       "<style scoped>\n",
       "    .dataframe tbody tr th:only-of-type {\n",
       "        vertical-align: middle;\n",
       "    }\n",
       "\n",
       "    .dataframe tbody tr th {\n",
       "        vertical-align: top;\n",
       "    }\n",
       "\n",
       "    .dataframe thead th {\n",
       "        text-align: right;\n",
       "    }\n",
       "</style>\n",
       "<table border=\"1\" class=\"dataframe\">\n",
       "  <thead>\n",
       "    <tr style=\"text-align: right;\">\n",
       "      <th></th>\n",
       "      <th>alpha</th>\n",
       "      <th>sse</th>\n",
       "    </tr>\n",
       "    <tr>\n",
       "      <th>model</th>\n",
       "      <th></th>\n",
       "      <th></th>\n",
       "    </tr>\n",
       "  </thead>\n",
       "  <tbody>\n",
       "    <tr>\n",
       "      <th>exp_smooth</th>\n",
       "      <td>0.626263</td>\n",
       "      <td>532.697345</td>\n",
       "    </tr>\n",
       "    <tr>\n",
       "      <th>lasso</th>\n",
       "      <td>0.575758</td>\n",
       "      <td>517.583390</td>\n",
       "    </tr>\n",
       "  </tbody>\n",
       "</table>\n",
       "</div>"
      ],
      "text/plain": [
       "               alpha         sse\n",
       "model                           \n",
       "exp_smooth  0.626263  532.697345\n",
       "lasso       0.575758  517.583390"
      ]
     },
     "execution_count": 306,
     "metadata": {},
     "output_type": "execute_result"
    }
   ],
   "source": [
    "# print(alpha_list)\n",
    "# print(oos_error_list)\n",
    "outcome_df =  pd.DataFrame({'model':['exp_smooth','lasso'], 'alpha':alpha_list, 'sse':oos_error_list})\n",
    "outcome_df.set_index('model')"
   ]
  },
  {
   "cell_type": "code",
   "execution_count": 307,
   "metadata": {},
   "outputs": [
    {
     "data": {
      "text/plain": [
       "<matplotlib.axes._subplots.AxesSubplot at 0x19b3d1e2100>"
      ]
     },
     "execution_count": 307,
     "metadata": {},
     "output_type": "execute_result"
    },
    {
     "data": {
      "image/png": "[encoded data removed]",
      "text/plain": [
       "<Figure size 432x288 with 1 Axes>"
      ]
     },
     "metadata": {
      "needs_background": "light"
     },
     "output_type": "display_data"
    }
   ],
   "source": [
    "cv_df.plot(x = 'penalty',y='train_alpha')"
   ]
  },
  {
   "cell_type": "code",
   "execution_count": 308,
   "metadata": {},
   "outputs": [
    {
     "data": {
      "text/plain": [
       "<matplotlib.axes._subplots.AxesSubplot at 0x19b3d27fac0>"
      ]
     },
     "execution_count": 308,
     "metadata": {},
     "output_type": "execute_result"
    },
    {
     "data": {
      "image/png": "[encoded data removed]",
      "text/plain": [
       "<Figure size 432x288 with 1 Axes>"
      ]
     },
     "metadata": {
      "needs_background": "light"
     },
     "output_type": "display_data"
    }
   ],
   "source": [
    "cv_df.plot(x = 'penalty', y='validate_sse')"
   ]
  },
  {
   "cell_type": "code",
   "execution_count": 309,
   "metadata": {},
   "outputs": [
    {
     "data": {
      "text/plain": [
       "<matplotlib.axes._subplots.AxesSubplot at 0x19b3d2d1130>"
      ]
     },
     "execution_count": 309,
     "metadata": {},
     "output_type": "execute_result"
    },
    {
     "data": {
      "image/png": "[encoded data removed]",
      "text/plain": [
       "<Figure size 432x288 with 1 Axes>"
      ]
     },
     "metadata": {
      "needs_background": "light"
     },
     "output_type": "display_data"
    }
   ],
   "source": [
    "cv_df.plot(x = 'penalty',y='test_sse')"
   ]
  },
  {
   "cell_type": "code",
   "execution_count": 310,
   "metadata": {},
   "outputs": [],
   "source": [
    "# opt_lambda = cv_df[cv_df['validate_sse']== cv_df['validate_sse'].min()]['penalty'].values[0]\n",
    "\n",
    "# print('SES test data is ', cv_df.query('penalty == 0.0')['test_sse'].values[0])\n",
    "# print('CV lasso test data is ', cv_df.query('penalty == @opt_lambda')['test_sse'].values[0])"
   ]
  },
  {
   "cell_type": "code",
   "execution_count": 311,
   "metadata": {},
   "outputs": [
    {
     "data": {
      "text/html": [
       "<div>\n",
       "<style scoped>\n",
       "    .dataframe tbody tr th:only-of-type {\n",
       "        vertical-align: middle;\n",
       "    }\n",
       "\n",
       "    .dataframe tbody tr th {\n",
       "        vertical-align: top;\n",
       "    }\n",
       "\n",
       "    .dataframe thead th {\n",
       "        text-align: right;\n",
       "    }\n",
       "</style>\n",
       "<table border=\"1\" class=\"dataframe\">\n",
       "  <thead>\n",
       "    <tr style=\"text-align: right;\">\n",
       "      <th></th>\n",
       "      <th>penalty</th>\n",
       "      <th>train_alpha</th>\n",
       "      <th>validate_sse</th>\n",
       "      <th>test_sse</th>\n",
       "    </tr>\n",
       "  </thead>\n",
       "  <tbody>\n",
       "    <tr>\n",
       "      <th>0</th>\n",
       "      <td>0.000000</td>\n",
       "      <td>0.646465</td>\n",
       "      <td>671.099</td>\n",
       "      <td>538.695</td>\n",
       "    </tr>\n",
       "    <tr>\n",
       "      <th>1</th>\n",
       "      <td>15.306122</td>\n",
       "      <td>0.646465</td>\n",
       "      <td>671.099</td>\n",
       "      <td>538.695</td>\n",
       "    </tr>\n",
       "    <tr>\n",
       "      <th>2</th>\n",
       "      <td>30.612245</td>\n",
       "      <td>0.636364</td>\n",
       "      <td>670.1</td>\n",
       "      <td>535.707</td>\n",
       "    </tr>\n",
       "    <tr>\n",
       "      <th>3</th>\n",
       "      <td>45.918367</td>\n",
       "      <td>0.636364</td>\n",
       "      <td>670.1</td>\n",
       "      <td>535.707</td>\n",
       "    </tr>\n",
       "    <tr>\n",
       "      <th>4</th>\n",
       "      <td>61.224490</td>\n",
       "      <td>0.636364</td>\n",
       "      <td>670.1</td>\n",
       "      <td>535.707</td>\n",
       "    </tr>\n",
       "    <tr>\n",
       "      <th>5</th>\n",
       "      <td>76.530612</td>\n",
       "      <td>0.626263</td>\n",
       "      <td>669.255</td>\n",
       "      <td>532.697</td>\n",
       "    </tr>\n",
       "    <tr>\n",
       "      <th>6</th>\n",
       "      <td>91.836735</td>\n",
       "      <td>0.626263</td>\n",
       "      <td>669.255</td>\n",
       "      <td>532.697</td>\n",
       "    </tr>\n",
       "    <tr>\n",
       "      <th>7</th>\n",
       "      <td>107.142857</td>\n",
       "      <td>0.626263</td>\n",
       "      <td>669.255</td>\n",
       "      <td>532.697</td>\n",
       "    </tr>\n",
       "    <tr>\n",
       "      <th>8</th>\n",
       "      <td>122.448980</td>\n",
       "      <td>0.616162</td>\n",
       "      <td>668.566</td>\n",
       "      <td>529.674</td>\n",
       "    </tr>\n",
       "    <tr>\n",
       "      <th>9</th>\n",
       "      <td>137.755102</td>\n",
       "      <td>0.616162</td>\n",
       "      <td>668.566</td>\n",
       "      <td>529.674</td>\n",
       "    </tr>\n",
       "    <tr>\n",
       "      <th>10</th>\n",
       "      <td>153.061224</td>\n",
       "      <td>0.606061</td>\n",
       "      <td>668.03</td>\n",
       "      <td>526.643</td>\n",
       "    </tr>\n",
       "    <tr>\n",
       "      <th>11</th>\n",
       "      <td>168.367347</td>\n",
       "      <td>0.606061</td>\n",
       "      <td>668.03</td>\n",
       "      <td>526.643</td>\n",
       "    </tr>\n",
       "    <tr>\n",
       "      <th>12</th>\n",
       "      <td>183.673469</td>\n",
       "      <td>0.59596</td>\n",
       "      <td>667.645</td>\n",
       "      <td>523.614</td>\n",
       "    </tr>\n",
       "    <tr>\n",
       "      <th>13</th>\n",
       "      <td>198.979592</td>\n",
       "      <td>0.59596</td>\n",
       "      <td>667.645</td>\n",
       "      <td>523.614</td>\n",
       "    </tr>\n",
       "    <tr>\n",
       "      <th>14</th>\n",
       "      <td>214.285714</td>\n",
       "      <td>0.59596</td>\n",
       "      <td>667.645</td>\n",
       "      <td>523.614</td>\n",
       "    </tr>\n",
       "    <tr>\n",
       "      <th>15</th>\n",
       "      <td>229.591837</td>\n",
       "      <td>0.585859</td>\n",
       "      <td>667.408</td>\n",
       "      <td>520.592</td>\n",
       "    </tr>\n",
       "    <tr>\n",
       "      <th>16</th>\n",
       "      <td>244.897959</td>\n",
       "      <td>0.575758</td>\n",
       "      <td>667.317</td>\n",
       "      <td>517.583</td>\n",
       "    </tr>\n",
       "    <tr>\n",
       "      <th>17</th>\n",
       "      <td>260.204082</td>\n",
       "      <td>0.575758</td>\n",
       "      <td>667.317</td>\n",
       "      <td>517.583</td>\n",
       "    </tr>\n",
       "    <tr>\n",
       "      <th>18</th>\n",
       "      <td>275.510204</td>\n",
       "      <td>0.565657</td>\n",
       "      <td>667.369</td>\n",
       "      <td>514.595</td>\n",
       "    </tr>\n",
       "    <tr>\n",
       "      <th>19</th>\n",
       "      <td>290.816327</td>\n",
       "      <td>0.565657</td>\n",
       "      <td>667.369</td>\n",
       "      <td>514.595</td>\n",
       "    </tr>\n",
       "    <tr>\n",
       "      <th>20</th>\n",
       "      <td>306.122449</td>\n",
       "      <td>0.555556</td>\n",
       "      <td>667.562</td>\n",
       "      <td>511.631</td>\n",
       "    </tr>\n",
       "    <tr>\n",
       "      <th>21</th>\n",
       "      <td>321.428571</td>\n",
       "      <td>0.555556</td>\n",
       "      <td>667.562</td>\n",
       "      <td>511.631</td>\n",
       "    </tr>\n",
       "    <tr>\n",
       "      <th>22</th>\n",
       "      <td>336.734694</td>\n",
       "      <td>0.545455</td>\n",
       "      <td>667.892</td>\n",
       "      <td>508.698</td>\n",
       "    </tr>\n",
       "    <tr>\n",
       "      <th>23</th>\n",
       "      <td>352.040816</td>\n",
       "      <td>0.535354</td>\n",
       "      <td>668.356</td>\n",
       "      <td>505.8</td>\n",
       "    </tr>\n",
       "    <tr>\n",
       "      <th>24</th>\n",
       "      <td>367.346939</td>\n",
       "      <td>0.535354</td>\n",
       "      <td>668.356</td>\n",
       "      <td>505.8</td>\n",
       "    </tr>\n",
       "    <tr>\n",
       "      <th>25</th>\n",
       "      <td>382.653061</td>\n",
       "      <td>0.525253</td>\n",
       "      <td>668.952</td>\n",
       "      <td>502.941</td>\n",
       "    </tr>\n",
       "    <tr>\n",
       "      <th>26</th>\n",
       "      <td>397.959184</td>\n",
       "      <td>0.515152</td>\n",
       "      <td>669.676</td>\n",
       "      <td>500.125</td>\n",
       "    </tr>\n",
       "    <tr>\n",
       "      <th>27</th>\n",
       "      <td>413.265306</td>\n",
       "      <td>0.505051</td>\n",
       "      <td>670.527</td>\n",
       "      <td>497.357</td>\n",
       "    </tr>\n",
       "    <tr>\n",
       "      <th>28</th>\n",
       "      <td>428.571429</td>\n",
       "      <td>0.494949</td>\n",
       "      <td>671.501</td>\n",
       "      <td>494.64</td>\n",
       "    </tr>\n",
       "    <tr>\n",
       "      <th>29</th>\n",
       "      <td>443.877551</td>\n",
       "      <td>0.494949</td>\n",
       "      <td>671.501</td>\n",
       "      <td>494.64</td>\n",
       "    </tr>\n",
       "    <tr>\n",
       "      <th>30</th>\n",
       "      <td>459.183673</td>\n",
       "      <td>0.484848</td>\n",
       "      <td>672.596</td>\n",
       "      <td>491.976</td>\n",
       "    </tr>\n",
       "    <tr>\n",
       "      <th>31</th>\n",
       "      <td>474.489796</td>\n",
       "      <td>0.474747</td>\n",
       "      <td>673.81</td>\n",
       "      <td>489.369</td>\n",
       "    </tr>\n",
       "    <tr>\n",
       "      <th>32</th>\n",
       "      <td>489.795918</td>\n",
       "      <td>0.464646</td>\n",
       "      <td>675.14</td>\n",
       "      <td>486.822</td>\n",
       "    </tr>\n",
       "    <tr>\n",
       "      <th>33</th>\n",
       "      <td>505.102041</td>\n",
       "      <td>0.454545</td>\n",
       "      <td>676.584</td>\n",
       "      <td>484.336</td>\n",
       "    </tr>\n",
       "    <tr>\n",
       "      <th>34</th>\n",
       "      <td>520.408163</td>\n",
       "      <td>0.444444</td>\n",
       "      <td>678.141</td>\n",
       "      <td>481.915</td>\n",
       "    </tr>\n",
       "    <tr>\n",
       "      <th>35</th>\n",
       "      <td>535.714286</td>\n",
       "      <td>0.434343</td>\n",
       "      <td>679.808</td>\n",
       "      <td>479.56</td>\n",
       "    </tr>\n",
       "    <tr>\n",
       "      <th>36</th>\n",
       "      <td>551.020408</td>\n",
       "      <td>0.424242</td>\n",
       "      <td>681.584</td>\n",
       "      <td>477.274</td>\n",
       "    </tr>\n",
       "    <tr>\n",
       "      <th>37</th>\n",
       "      <td>566.326531</td>\n",
       "      <td>0.414141</td>\n",
       "      <td>683.468</td>\n",
       "      <td>475.057</td>\n",
       "    </tr>\n",
       "    <tr>\n",
       "      <th>38</th>\n",
       "      <td>581.632653</td>\n",
       "      <td>0.40404</td>\n",
       "      <td>685.457</td>\n",
       "      <td>472.913</td>\n",
       "    </tr>\n",
       "    <tr>\n",
       "      <th>39</th>\n",
       "      <td>596.938776</td>\n",
       "      <td>0.393939</td>\n",
       "      <td>687.553</td>\n",
       "      <td>470.841</td>\n",
       "    </tr>\n",
       "    <tr>\n",
       "      <th>40</th>\n",
       "      <td>612.244898</td>\n",
       "      <td>0.383838</td>\n",
       "      <td>689.752</td>\n",
       "      <td>468.845</td>\n",
       "    </tr>\n",
       "    <tr>\n",
       "      <th>41</th>\n",
       "      <td>627.551020</td>\n",
       "      <td>0.373737</td>\n",
       "      <td>692.056</td>\n",
       "      <td>466.924</td>\n",
       "    </tr>\n",
       "    <tr>\n",
       "      <th>42</th>\n",
       "      <td>642.857143</td>\n",
       "      <td>0.363636</td>\n",
       "      <td>694.463</td>\n",
       "      <td>465.081</td>\n",
       "    </tr>\n",
       "    <tr>\n",
       "      <th>43</th>\n",
       "      <td>658.163265</td>\n",
       "      <td>0.353535</td>\n",
       "      <td>696.973</td>\n",
       "      <td>463.317</td>\n",
       "    </tr>\n",
       "    <tr>\n",
       "      <th>44</th>\n",
       "      <td>673.469388</td>\n",
       "      <td>0.343434</td>\n",
       "      <td>699.586</td>\n",
       "      <td>461.632</td>\n",
       "    </tr>\n",
       "    <tr>\n",
       "      <th>45</th>\n",
       "      <td>688.775510</td>\n",
       "      <td>0.333333</td>\n",
       "      <td>702.303</td>\n",
       "      <td>460.029</td>\n",
       "    </tr>\n",
       "    <tr>\n",
       "      <th>46</th>\n",
       "      <td>704.081633</td>\n",
       "      <td>0.323232</td>\n",
       "      <td>705.124</td>\n",
       "      <td>458.507</td>\n",
       "    </tr>\n",
       "    <tr>\n",
       "      <th>47</th>\n",
       "      <td>719.387755</td>\n",
       "      <td>0.313131</td>\n",
       "      <td>708.049</td>\n",
       "      <td>457.068</td>\n",
       "    </tr>\n",
       "    <tr>\n",
       "      <th>48</th>\n",
       "      <td>734.693878</td>\n",
       "      <td>0.30303</td>\n",
       "      <td>711.08</td>\n",
       "      <td>455.713</td>\n",
       "    </tr>\n",
       "    <tr>\n",
       "      <th>49</th>\n",
       "      <td>750.000000</td>\n",
       "      <td>0.292929</td>\n",
       "      <td>714.218</td>\n",
       "      <td>454.444</td>\n",
       "    </tr>\n",
       "  </tbody>\n",
       "</table>\n",
       "</div>"
      ],
      "text/plain": [
       "       penalty train_alpha validate_sse test_sse\n",
       "0     0.000000    0.646465      671.099  538.695\n",
       "1    15.306122    0.646465      671.099  538.695\n",
       "2    30.612245    0.636364        670.1  535.707\n",
       "3    45.918367    0.636364        670.1  535.707\n",
       "4    61.224490    0.636364        670.1  535.707\n",
       "5    76.530612    0.626263      669.255  532.697\n",
       "6    91.836735    0.626263      669.255  532.697\n",
       "7   107.142857    0.626263      669.255  532.697\n",
       "8   122.448980    0.616162      668.566  529.674\n",
       "9   137.755102    0.616162      668.566  529.674\n",
       "10  153.061224    0.606061       668.03  526.643\n",
       "11  168.367347    0.606061       668.03  526.643\n",
       "12  183.673469     0.59596      667.645  523.614\n",
       "13  198.979592     0.59596      667.645  523.614\n",
       "14  214.285714     0.59596      667.645  523.614\n",
       "15  229.591837    0.585859      667.408  520.592\n",
       "16  244.897959    0.575758      667.317  517.583\n",
       "17  260.204082    0.575758      667.317  517.583\n",
       "18  275.510204    0.565657      667.369  514.595\n",
       "19  290.816327    0.565657      667.369  514.595\n",
       "20  306.122449    0.555556      667.562  511.631\n",
       "21  321.428571    0.555556      667.562  511.631\n",
       "22  336.734694    0.545455      667.892  508.698\n",
       "23  352.040816    0.535354      668.356    505.8\n",
       "24  367.346939    0.535354      668.356    505.8\n",
       "25  382.653061    0.525253      668.952  502.941\n",
       "26  397.959184    0.515152      669.676  500.125\n",
       "27  413.265306    0.505051      670.527  497.357\n",
       "28  428.571429    0.494949      671.501   494.64\n",
       "29  443.877551    0.494949      671.501   494.64\n",
       "30  459.183673    0.484848      672.596  491.976\n",
       "31  474.489796    0.474747       673.81  489.369\n",
       "32  489.795918    0.464646       675.14  486.822\n",
       "33  505.102041    0.454545      676.584  484.336\n",
       "34  520.408163    0.444444      678.141  481.915\n",
       "35  535.714286    0.434343      679.808   479.56\n",
       "36  551.020408    0.424242      681.584  477.274\n",
       "37  566.326531    0.414141      683.468  475.057\n",
       "38  581.632653     0.40404      685.457  472.913\n",
       "39  596.938776    0.393939      687.553  470.841\n",
       "40  612.244898    0.383838      689.752  468.845\n",
       "41  627.551020    0.373737      692.056  466.924\n",
       "42  642.857143    0.363636      694.463  465.081\n",
       "43  658.163265    0.353535      696.973  463.317\n",
       "44  673.469388    0.343434      699.586  461.632\n",
       "45  688.775510    0.333333      702.303  460.029\n",
       "46  704.081633    0.323232      705.124  458.507\n",
       "47  719.387755    0.313131      708.049  457.068\n",
       "48  734.693878     0.30303       711.08  455.713\n",
       "49  750.000000    0.292929      714.218  454.444"
      ]
     },
     "execution_count": 311,
     "metadata": {},
     "output_type": "execute_result"
    }
   ],
   "source": [
    "cv_df"
   ]
  },
  {
   "cell_type": "code",
   "execution_count": 312,
   "metadata": {},
   "outputs": [
    {
     "data": {
      "text/plain": [
       "<matplotlib.axes._subplots.AxesSubplot at 0x19b3d323220>"
      ]
     },
     "execution_count": 312,
     "metadata": {},
     "output_type": "execute_result"
    },
    {
     "data": {
      "image/png": "[encoded data removed]",
      "text/plain": [
       "<Figure size 432x288 with 1 Axes>"
      ]
     },
     "metadata": {
      "needs_background": "light"
     },
     "output_type": "display_data"
    }
   ],
   "source": [
    "Y.plot()"
   ]
  },
  {
   "cell_type": "code",
   "execution_count": 350,
   "metadata": {},
   "outputs": [
    {
     "ename": "KeyboardInterrupt",
     "evalue": "",
     "output_type": "error",
     "traceback": [
      "\u001b[1;31m---------------------------------------------------------------------------\u001b[0m",
      "\u001b[1;31mKeyboardInterrupt\u001b[0m                         Traceback (most recent call last)",
      "\u001b[1;32m<ipython-input-350-06314874ceac>\u001b[0m in \u001b[0;36m<module>\u001b[1;34m\u001b[0m\n\u001b[0;32m     22\u001b[0m \u001b[1;33m\u001b[0m\u001b[0m\n\u001b[0;32m     23\u001b[0m     \u001b[1;32mfor\u001b[0m \u001b[0mpen\u001b[0m \u001b[1;32min\u001b[0m \u001b[0mpenalty_list\u001b[0m\u001b[1;33m:\u001b[0m\u001b[1;33m\u001b[0m\u001b[1;33m\u001b[0m\u001b[0m\n\u001b[1;32m---> 24\u001b[1;33m         \u001b[0mtrain_alpha\u001b[0m \u001b[1;33m=\u001b[0m \u001b[0mminimal_alpha\u001b[0m\u001b[1;33m(\u001b[0m\u001b[0mY_train\u001b[0m\u001b[1;33m,\u001b[0m\u001b[0mpen\u001b[0m\u001b[1;33m)\u001b[0m\u001b[1;33m\u001b[0m\u001b[1;33m\u001b[0m\u001b[0m\n\u001b[0m\u001b[0;32m     25\u001b[0m \u001b[1;33m\u001b[0m\u001b[0m\n\u001b[0;32m     26\u001b[0m         \u001b[0mexp_df\u001b[0m \u001b[1;33m=\u001b[0m \u001b[0mpd\u001b[0m\u001b[1;33m.\u001b[0m\u001b[0mDataFrame\u001b[0m\u001b[1;33m(\u001b[0m\u001b[1;33m{\u001b[0m\u001b[1;34m'Y'\u001b[0m\u001b[1;33m:\u001b[0m\u001b[0mY\u001b[0m\u001b[1;33m,\u001b[0m\u001b[1;34m'exp'\u001b[0m\u001b[1;33m:\u001b[0m\u001b[0mexp_smooth\u001b[0m\u001b[1;33m(\u001b[0m\u001b[0mY\u001b[0m\u001b[1;33m,\u001b[0m\u001b[0mtrain_alpha\u001b[0m\u001b[1;33m)\u001b[0m\u001b[1;33m}\u001b[0m\u001b[1;33m)\u001b[0m\u001b[1;33m\u001b[0m\u001b[1;33m\u001b[0m\u001b[0m\n",
      "\u001b[1;32m<ipython-input-16-488db48b7898>\u001b[0m in \u001b[0;36mminimal_alpha\u001b[1;34m(Y, penalty)\u001b[0m\n\u001b[0;32m     17\u001b[0m \u001b[1;33m\u001b[0m\u001b[0m\n\u001b[0;32m     18\u001b[0m     \u001b[0mobj_df\u001b[0m\u001b[1;33m[\u001b[0m\u001b[1;34m'alpha'\u001b[0m\u001b[1;33m]\u001b[0m \u001b[1;33m=\u001b[0m \u001b[0mnp\u001b[0m\u001b[1;33m.\u001b[0m\u001b[0mlinspace\u001b[0m\u001b[1;33m(\u001b[0m\u001b[1;36m0\u001b[0m\u001b[1;33m,\u001b[0m\u001b[1;36m1\u001b[0m\u001b[1;33m,\u001b[0m\u001b[1;36m100\u001b[0m\u001b[1;33m)\u001b[0m\u001b[1;33m\u001b[0m\u001b[1;33m\u001b[0m\u001b[0m\n\u001b[1;32m---> 19\u001b[1;33m     \u001b[0mobj_df\u001b[0m\u001b[1;33m[\u001b[0m\u001b[1;34m'value'\u001b[0m\u001b[1;33m]\u001b[0m \u001b[1;33m=\u001b[0m \u001b[0mobj_df\u001b[0m\u001b[1;33m[\u001b[0m\u001b[1;34m'alpha'\u001b[0m\u001b[1;33m]\u001b[0m\u001b[1;33m.\u001b[0m\u001b[0mapply\u001b[0m\u001b[1;33m(\u001b[0m\u001b[1;32mlambda\u001b[0m \u001b[0ms\u001b[0m\u001b[1;33m:\u001b[0m \u001b[0mobjective\u001b[0m\u001b[1;33m(\u001b[0m\u001b[0mY\u001b[0m\u001b[1;33m,\u001b[0m\u001b[0ms\u001b[0m\u001b[1;33m,\u001b[0m\u001b[0mpenalty\u001b[0m\u001b[1;33m)\u001b[0m\u001b[1;33m)\u001b[0m\u001b[1;33m\u001b[0m\u001b[1;33m\u001b[0m\u001b[0m\n\u001b[0m\u001b[0;32m     20\u001b[0m \u001b[1;33m\u001b[0m\u001b[0m\n\u001b[0;32m     21\u001b[0m     \u001b[0mmin_val\u001b[0m \u001b[1;33m=\u001b[0m \u001b[0mobj_df\u001b[0m\u001b[1;33m[\u001b[0m\u001b[1;34m'value'\u001b[0m\u001b[1;33m]\u001b[0m\u001b[1;33m.\u001b[0m\u001b[0mmin\u001b[0m\u001b[1;33m(\u001b[0m\u001b[1;33m)\u001b[0m\u001b[1;33m\u001b[0m\u001b[1;33m\u001b[0m\u001b[0m\n",
      "\u001b[1;32m~\\Anaconda3\\lib\\site-packages\\pandas\\core\\series.py\u001b[0m in \u001b[0;36mapply\u001b[1;34m(self, func, convert_dtype, args, **kwds)\u001b[0m\n\u001b[0;32m   3846\u001b[0m             \u001b[1;32melse\u001b[0m\u001b[1;33m:\u001b[0m\u001b[1;33m\u001b[0m\u001b[1;33m\u001b[0m\u001b[0m\n\u001b[0;32m   3847\u001b[0m                 \u001b[0mvalues\u001b[0m \u001b[1;33m=\u001b[0m \u001b[0mself\u001b[0m\u001b[1;33m.\u001b[0m\u001b[0mastype\u001b[0m\u001b[1;33m(\u001b[0m\u001b[0mobject\u001b[0m\u001b[1;33m)\u001b[0m\u001b[1;33m.\u001b[0m\u001b[0mvalues\u001b[0m\u001b[1;33m\u001b[0m\u001b[1;33m\u001b[0m\u001b[0m\n\u001b[1;32m-> 3848\u001b[1;33m                 \u001b[0mmapped\u001b[0m \u001b[1;33m=\u001b[0m \u001b[0mlib\u001b[0m\u001b[1;33m.\u001b[0m\u001b[0mmap_infer\u001b[0m\u001b[1;33m(\u001b[0m\u001b[0mvalues\u001b[0m\u001b[1;33m,\u001b[0m \u001b[0mf\u001b[0m\u001b[1;33m,\u001b[0m \u001b[0mconvert\u001b[0m\u001b[1;33m=\u001b[0m\u001b[0mconvert_dtype\u001b[0m\u001b[1;33m)\u001b[0m\u001b[1;33m\u001b[0m\u001b[1;33m\u001b[0m\u001b[0m\n\u001b[0m\u001b[0;32m   3849\u001b[0m \u001b[1;33m\u001b[0m\u001b[0m\n\u001b[0;32m   3850\u001b[0m         \u001b[1;32mif\u001b[0m \u001b[0mlen\u001b[0m\u001b[1;33m(\u001b[0m\u001b[0mmapped\u001b[0m\u001b[1;33m)\u001b[0m \u001b[1;32mand\u001b[0m \u001b[0misinstance\u001b[0m\u001b[1;33m(\u001b[0m\u001b[0mmapped\u001b[0m\u001b[1;33m[\u001b[0m\u001b[1;36m0\u001b[0m\u001b[1;33m]\u001b[0m\u001b[1;33m,\u001b[0m \u001b[0mSeries\u001b[0m\u001b[1;33m)\u001b[0m\u001b[1;33m:\u001b[0m\u001b[1;33m\u001b[0m\u001b[1;33m\u001b[0m\u001b[0m\n",
      "\u001b[1;32mpandas\\_libs\\lib.pyx\u001b[0m in \u001b[0;36mpandas._libs.lib.map_infer\u001b[1;34m()\u001b[0m\n",
      "\u001b[1;32m<ipython-input-16-488db48b7898>\u001b[0m in \u001b[0;36m<lambda>\u001b[1;34m(s)\u001b[0m\n\u001b[0;32m     17\u001b[0m \u001b[1;33m\u001b[0m\u001b[0m\n\u001b[0;32m     18\u001b[0m     \u001b[0mobj_df\u001b[0m\u001b[1;33m[\u001b[0m\u001b[1;34m'alpha'\u001b[0m\u001b[1;33m]\u001b[0m \u001b[1;33m=\u001b[0m \u001b[0mnp\u001b[0m\u001b[1;33m.\u001b[0m\u001b[0mlinspace\u001b[0m\u001b[1;33m(\u001b[0m\u001b[1;36m0\u001b[0m\u001b[1;33m,\u001b[0m\u001b[1;36m1\u001b[0m\u001b[1;33m,\u001b[0m\u001b[1;36m100\u001b[0m\u001b[1;33m)\u001b[0m\u001b[1;33m\u001b[0m\u001b[1;33m\u001b[0m\u001b[0m\n\u001b[1;32m---> 19\u001b[1;33m     \u001b[0mobj_df\u001b[0m\u001b[1;33m[\u001b[0m\u001b[1;34m'value'\u001b[0m\u001b[1;33m]\u001b[0m \u001b[1;33m=\u001b[0m \u001b[0mobj_df\u001b[0m\u001b[1;33m[\u001b[0m\u001b[1;34m'alpha'\u001b[0m\u001b[1;33m]\u001b[0m\u001b[1;33m.\u001b[0m\u001b[0mapply\u001b[0m\u001b[1;33m(\u001b[0m\u001b[1;32mlambda\u001b[0m \u001b[0ms\u001b[0m\u001b[1;33m:\u001b[0m \u001b[0mobjective\u001b[0m\u001b[1;33m(\u001b[0m\u001b[0mY\u001b[0m\u001b[1;33m,\u001b[0m\u001b[0ms\u001b[0m\u001b[1;33m,\u001b[0m\u001b[0mpenalty\u001b[0m\u001b[1;33m)\u001b[0m\u001b[1;33m)\u001b[0m\u001b[1;33m\u001b[0m\u001b[1;33m\u001b[0m\u001b[0m\n\u001b[0m\u001b[0;32m     20\u001b[0m \u001b[1;33m\u001b[0m\u001b[0m\n\u001b[0;32m     21\u001b[0m     \u001b[0mmin_val\u001b[0m \u001b[1;33m=\u001b[0m \u001b[0mobj_df\u001b[0m\u001b[1;33m[\u001b[0m\u001b[1;34m'value'\u001b[0m\u001b[1;33m]\u001b[0m\u001b[1;33m.\u001b[0m\u001b[0mmin\u001b[0m\u001b[1;33m(\u001b[0m\u001b[1;33m)\u001b[0m\u001b[1;33m\u001b[0m\u001b[1;33m\u001b[0m\u001b[0m\n",
      "\u001b[1;32m<ipython-input-16-488db48b7898>\u001b[0m in \u001b[0;36mobjective\u001b[1;34m(Y, alpha, penalty)\u001b[0m\n\u001b[0;32m      6\u001b[0m \u001b[1;33m\u001b[0m\u001b[0m\n\u001b[0;32m      7\u001b[0m \u001b[1;32mdef\u001b[0m \u001b[0mobjective\u001b[0m\u001b[1;33m(\u001b[0m\u001b[0mY\u001b[0m\u001b[1;33m,\u001b[0m\u001b[0malpha\u001b[0m\u001b[1;33m,\u001b[0m\u001b[0mpenalty\u001b[0m\u001b[1;33m)\u001b[0m\u001b[1;33m:\u001b[0m\u001b[1;33m\u001b[0m\u001b[1;33m\u001b[0m\u001b[0m\n\u001b[1;32m----> 8\u001b[1;33m     \u001b[0mdata\u001b[0m \u001b[1;33m=\u001b[0m \u001b[0mpd\u001b[0m\u001b[1;33m.\u001b[0m\u001b[0mDataFrame\u001b[0m\u001b[1;33m(\u001b[0m\u001b[1;33m{\u001b[0m\u001b[1;34m'Y'\u001b[0m\u001b[1;33m:\u001b[0m\u001b[0mY\u001b[0m\u001b[1;33m,\u001b[0m \u001b[1;34m'est'\u001b[0m\u001b[1;33m:\u001b[0m\u001b[0mexp_smooth\u001b[0m\u001b[1;33m(\u001b[0m\u001b[0mY\u001b[0m\u001b[1;33m,\u001b[0m\u001b[0malpha\u001b[0m\u001b[1;33m)\u001b[0m\u001b[1;33m}\u001b[0m\u001b[1;33m)\u001b[0m\u001b[1;33m\u001b[0m\u001b[1;33m\u001b[0m\u001b[0m\n\u001b[0m\u001b[0;32m      9\u001b[0m     \u001b[0mdata\u001b[0m\u001b[1;33m[\u001b[0m\u001b[1;34m'est'\u001b[0m\u001b[1;33m]\u001b[0m \u001b[1;33m=\u001b[0m \u001b[0mdata\u001b[0m\u001b[1;33m[\u001b[0m\u001b[1;34m'est'\u001b[0m\u001b[1;33m]\u001b[0m\u001b[1;33m.\u001b[0m\u001b[0mshift\u001b[0m\u001b[1;33m(\u001b[0m\u001b[1;36m1\u001b[0m\u001b[1;33m)\u001b[0m\u001b[1;33m\u001b[0m\u001b[1;33m\u001b[0m\u001b[0m\n\u001b[0;32m     10\u001b[0m     \u001b[0mdata\u001b[0m \u001b[1;33m=\u001b[0m \u001b[0mdata\u001b[0m\u001b[1;33m.\u001b[0m\u001b[0mdropna\u001b[0m\u001b[1;33m(\u001b[0m\u001b[1;33m)\u001b[0m\u001b[1;33m\u001b[0m\u001b[1;33m\u001b[0m\u001b[0m\n",
      "\u001b[1;32m~\\Anaconda3\\lib\\site-packages\\pandas\\core\\frame.py\u001b[0m in \u001b[0;36m__init__\u001b[1;34m(self, data, index, columns, dtype, copy)\u001b[0m\n\u001b[0;32m    433\u001b[0m             )\n\u001b[0;32m    434\u001b[0m         \u001b[1;32melif\u001b[0m \u001b[0misinstance\u001b[0m\u001b[1;33m(\u001b[0m\u001b[0mdata\u001b[0m\u001b[1;33m,\u001b[0m \u001b[0mdict\u001b[0m\u001b[1;33m)\u001b[0m\u001b[1;33m:\u001b[0m\u001b[1;33m\u001b[0m\u001b[1;33m\u001b[0m\u001b[0m\n\u001b[1;32m--> 435\u001b[1;33m             \u001b[0mmgr\u001b[0m \u001b[1;33m=\u001b[0m \u001b[0minit_dict\u001b[0m\u001b[1;33m(\u001b[0m\u001b[0mdata\u001b[0m\u001b[1;33m,\u001b[0m \u001b[0mindex\u001b[0m\u001b[1;33m,\u001b[0m \u001b[0mcolumns\u001b[0m\u001b[1;33m,\u001b[0m \u001b[0mdtype\u001b[0m\u001b[1;33m=\u001b[0m\u001b[0mdtype\u001b[0m\u001b[1;33m)\u001b[0m\u001b[1;33m\u001b[0m\u001b[1;33m\u001b[0m\u001b[0m\n\u001b[0m\u001b[0;32m    436\u001b[0m         \u001b[1;32melif\u001b[0m \u001b[0misinstance\u001b[0m\u001b[1;33m(\u001b[0m\u001b[0mdata\u001b[0m\u001b[1;33m,\u001b[0m \u001b[0mma\u001b[0m\u001b[1;33m.\u001b[0m\u001b[0mMaskedArray\u001b[0m\u001b[1;33m)\u001b[0m\u001b[1;33m:\u001b[0m\u001b[1;33m\u001b[0m\u001b[1;33m\u001b[0m\u001b[0m\n\u001b[0;32m    437\u001b[0m             \u001b[1;32mimport\u001b[0m \u001b[0mnumpy\u001b[0m\u001b[1;33m.\u001b[0m\u001b[0mma\u001b[0m\u001b[1;33m.\u001b[0m\u001b[0mmrecords\u001b[0m \u001b[1;32mas\u001b[0m \u001b[0mmrecords\u001b[0m\u001b[1;33m\u001b[0m\u001b[1;33m\u001b[0m\u001b[0m\n",
      "\u001b[1;32m~\\Anaconda3\\lib\\site-packages\\pandas\\core\\internals\\construction.py\u001b[0m in \u001b[0;36minit_dict\u001b[1;34m(data, index, columns, dtype)\u001b[0m\n\u001b[0;32m    252\u001b[0m             \u001b[0marr\u001b[0m \u001b[1;32mif\u001b[0m \u001b[1;32mnot\u001b[0m \u001b[0mis_datetime64tz_dtype\u001b[0m\u001b[1;33m(\u001b[0m\u001b[0marr\u001b[0m\u001b[1;33m)\u001b[0m \u001b[1;32melse\u001b[0m \u001b[0marr\u001b[0m\u001b[1;33m.\u001b[0m\u001b[0mcopy\u001b[0m\u001b[1;33m(\u001b[0m\u001b[1;33m)\u001b[0m \u001b[1;32mfor\u001b[0m \u001b[0marr\u001b[0m \u001b[1;32min\u001b[0m \u001b[0marrays\u001b[0m\u001b[1;33m\u001b[0m\u001b[1;33m\u001b[0m\u001b[0m\n\u001b[0;32m    253\u001b[0m         ]\n\u001b[1;32m--> 254\u001b[1;33m     \u001b[1;32mreturn\u001b[0m \u001b[0marrays_to_mgr\u001b[0m\u001b[1;33m(\u001b[0m\u001b[0marrays\u001b[0m\u001b[1;33m,\u001b[0m \u001b[0mdata_names\u001b[0m\u001b[1;33m,\u001b[0m \u001b[0mindex\u001b[0m\u001b[1;33m,\u001b[0m \u001b[0mcolumns\u001b[0m\u001b[1;33m,\u001b[0m \u001b[0mdtype\u001b[0m\u001b[1;33m=\u001b[0m\u001b[0mdtype\u001b[0m\u001b[1;33m)\u001b[0m\u001b[1;33m\u001b[0m\u001b[1;33m\u001b[0m\u001b[0m\n\u001b[0m\u001b[0;32m    255\u001b[0m \u001b[1;33m\u001b[0m\u001b[0m\n\u001b[0;32m    256\u001b[0m \u001b[1;33m\u001b[0m\u001b[0m\n",
      "\u001b[1;32m~\\Anaconda3\\lib\\site-packages\\pandas\\core\\internals\\construction.py\u001b[0m in \u001b[0;36marrays_to_mgr\u001b[1;34m(arrays, arr_names, index, columns, dtype)\u001b[0m\n\u001b[0;32m     72\u001b[0m     \u001b[0maxes\u001b[0m \u001b[1;33m=\u001b[0m \u001b[1;33m[\u001b[0m\u001b[0mensure_index\u001b[0m\u001b[1;33m(\u001b[0m\u001b[0mcolumns\u001b[0m\u001b[1;33m)\u001b[0m\u001b[1;33m,\u001b[0m \u001b[0mindex\u001b[0m\u001b[1;33m]\u001b[0m\u001b[1;33m\u001b[0m\u001b[1;33m\u001b[0m\u001b[0m\n\u001b[0;32m     73\u001b[0m \u001b[1;33m\u001b[0m\u001b[0m\n\u001b[1;32m---> 74\u001b[1;33m     \u001b[1;32mreturn\u001b[0m \u001b[0mcreate_block_manager_from_arrays\u001b[0m\u001b[1;33m(\u001b[0m\u001b[0marrays\u001b[0m\u001b[1;33m,\u001b[0m \u001b[0marr_names\u001b[0m\u001b[1;33m,\u001b[0m \u001b[0maxes\u001b[0m\u001b[1;33m)\u001b[0m\u001b[1;33m\u001b[0m\u001b[1;33m\u001b[0m\u001b[0m\n\u001b[0m\u001b[0;32m     75\u001b[0m \u001b[1;33m\u001b[0m\u001b[0m\n\u001b[0;32m     76\u001b[0m \u001b[1;33m\u001b[0m\u001b[0m\n",
      "\u001b[1;32m~\\Anaconda3\\lib\\site-packages\\pandas\\core\\internals\\managers.py\u001b[0m in \u001b[0;36mcreate_block_manager_from_arrays\u001b[1;34m(arrays, names, axes)\u001b[0m\n\u001b[0;32m   1669\u001b[0m     \u001b[1;32mtry\u001b[0m\u001b[1;33m:\u001b[0m\u001b[1;33m\u001b[0m\u001b[1;33m\u001b[0m\u001b[0m\n\u001b[0;32m   1670\u001b[0m         \u001b[0mblocks\u001b[0m \u001b[1;33m=\u001b[0m \u001b[0mform_blocks\u001b[0m\u001b[1;33m(\u001b[0m\u001b[0marrays\u001b[0m\u001b[1;33m,\u001b[0m \u001b[0mnames\u001b[0m\u001b[1;33m,\u001b[0m \u001b[0maxes\u001b[0m\u001b[1;33m)\u001b[0m\u001b[1;33m\u001b[0m\u001b[1;33m\u001b[0m\u001b[0m\n\u001b[1;32m-> 1671\u001b[1;33m         \u001b[0mmgr\u001b[0m \u001b[1;33m=\u001b[0m \u001b[0mBlockManager\u001b[0m\u001b[1;33m(\u001b[0m\u001b[0mblocks\u001b[0m\u001b[1;33m,\u001b[0m \u001b[0maxes\u001b[0m\u001b[1;33m)\u001b[0m\u001b[1;33m\u001b[0m\u001b[1;33m\u001b[0m\u001b[0m\n\u001b[0m\u001b[0;32m   1672\u001b[0m         \u001b[0mmgr\u001b[0m\u001b[1;33m.\u001b[0m\u001b[0m_consolidate_inplace\u001b[0m\u001b[1;33m(\u001b[0m\u001b[1;33m)\u001b[0m\u001b[1;33m\u001b[0m\u001b[1;33m\u001b[0m\u001b[0m\n\u001b[0;32m   1673\u001b[0m         \u001b[1;32mreturn\u001b[0m \u001b[0mmgr\u001b[0m\u001b[1;33m\u001b[0m\u001b[1;33m\u001b[0m\u001b[0m\n",
      "\u001b[1;32m~\\Anaconda3\\lib\\site-packages\\pandas\\core\\internals\\managers.py\u001b[0m in \u001b[0;36m__init__\u001b[1;34m(self, blocks, axes, do_integrity_check)\u001b[0m\n\u001b[0;32m    141\u001b[0m         \u001b[0mself\u001b[0m\u001b[1;33m.\u001b[0m\u001b[0m_consolidate_check\u001b[0m\u001b[1;33m(\u001b[0m\u001b[1;33m)\u001b[0m\u001b[1;33m\u001b[0m\u001b[1;33m\u001b[0m\u001b[0m\n\u001b[0;32m    142\u001b[0m \u001b[1;33m\u001b[0m\u001b[0m\n\u001b[1;32m--> 143\u001b[1;33m         \u001b[0mself\u001b[0m\u001b[1;33m.\u001b[0m\u001b[0m_rebuild_blknos_and_blklocs\u001b[0m\u001b[1;33m(\u001b[0m\u001b[1;33m)\u001b[0m\u001b[1;33m\u001b[0m\u001b[1;33m\u001b[0m\u001b[0m\n\u001b[0m\u001b[0;32m    144\u001b[0m \u001b[1;33m\u001b[0m\u001b[0m\n\u001b[0;32m    145\u001b[0m     \u001b[1;32mdef\u001b[0m \u001b[0mmake_empty\u001b[0m\u001b[1;33m(\u001b[0m\u001b[0mself\u001b[0m\u001b[1;33m,\u001b[0m \u001b[0maxes\u001b[0m\u001b[1;33m=\u001b[0m\u001b[1;32mNone\u001b[0m\u001b[1;33m)\u001b[0m\u001b[1;33m:\u001b[0m\u001b[1;33m\u001b[0m\u001b[1;33m\u001b[0m\u001b[0m\n",
      "\u001b[1;32m~\\Anaconda3\\lib\\site-packages\\pandas\\core\\internals\\managers.py\u001b[0m in \u001b[0;36m_rebuild_blknos_and_blklocs\u001b[1;34m(self)\u001b[0m\n\u001b[0;32m    222\u001b[0m             \u001b[0mrl\u001b[0m \u001b[1;33m=\u001b[0m \u001b[0mblk\u001b[0m\u001b[1;33m.\u001b[0m\u001b[0mmgr_locs\u001b[0m\u001b[1;33m\u001b[0m\u001b[1;33m\u001b[0m\u001b[0m\n\u001b[0;32m    223\u001b[0m             \u001b[0mnew_blknos\u001b[0m\u001b[1;33m[\u001b[0m\u001b[0mrl\u001b[0m\u001b[1;33m.\u001b[0m\u001b[0mindexer\u001b[0m\u001b[1;33m]\u001b[0m \u001b[1;33m=\u001b[0m \u001b[0mblkno\u001b[0m\u001b[1;33m\u001b[0m\u001b[1;33m\u001b[0m\u001b[0m\n\u001b[1;32m--> 224\u001b[1;33m             \u001b[0mnew_blklocs\u001b[0m\u001b[1;33m[\u001b[0m\u001b[0mrl\u001b[0m\u001b[1;33m.\u001b[0m\u001b[0mindexer\u001b[0m\u001b[1;33m]\u001b[0m \u001b[1;33m=\u001b[0m \u001b[0mnp\u001b[0m\u001b[1;33m.\u001b[0m\u001b[0marange\u001b[0m\u001b[1;33m(\u001b[0m\u001b[0mlen\u001b[0m\u001b[1;33m(\u001b[0m\u001b[0mrl\u001b[0m\u001b[1;33m)\u001b[0m\u001b[1;33m)\u001b[0m\u001b[1;33m\u001b[0m\u001b[1;33m\u001b[0m\u001b[0m\n\u001b[0m\u001b[0;32m    225\u001b[0m \u001b[1;33m\u001b[0m\u001b[0m\n\u001b[0;32m    226\u001b[0m         \u001b[1;32mif\u001b[0m \u001b[1;33m(\u001b[0m\u001b[0mnew_blknos\u001b[0m \u001b[1;33m==\u001b[0m \u001b[1;33m-\u001b[0m\u001b[1;36m1\u001b[0m\u001b[1;33m)\u001b[0m\u001b[1;33m.\u001b[0m\u001b[0many\u001b[0m\u001b[1;33m(\u001b[0m\u001b[1;33m)\u001b[0m\u001b[1;33m:\u001b[0m\u001b[1;33m\u001b[0m\u001b[1;33m\u001b[0m\u001b[0m\n",
      "\u001b[1;31mKeyboardInterrupt\u001b[0m: "
     ]
    }
   ],
   "source": [
    "test_df = pd.DataFrame(columns = ['alpha_ses','alpha_lasso','opt_lambda','sse_ses','sse_lasso'])\n",
    "\n",
    "\n",
    "for prod in sales_data.index.values:\n",
    "    Y = sales_data.loc[prod]\n",
    "    sample_size = len(Y)\n",
    "\n",
    "    Y_train = Y[0:round(sample_size/2.5)].values\n",
    "    Y_validate = Y[round(sample_size/2.5):2*round(sample_size/2.5)].values\n",
    "    Y_test = Y[2*round(sample_size/2.5):].values\n",
    "\n",
    "    train_index = range(0,round(sample_size/2.5))\n",
    "    validate_index = range(round(sample_size/2.5), 2* round(sample_size/2.5))\n",
    "    test_index = range(2*round(sample_size/2.5),sample_size)\n",
    "\n",
    "    penalty_list = np.linspace(0,750,50)\n",
    "    # penalty_list = np.linspace(0,400,50)\n",
    "\n",
    "    cv_df = pd.DataFrame(columns =['penalty','train_alpha','validate_sse','test_sse'])\n",
    "    cv_df['penalty'] = penalty_list\n",
    "    cv_df = cv_df.set_index('penalty')\n",
    "\n",
    "    for pen in penalty_list:\n",
    "        train_alpha = minimal_alpha(Y_train,pen)\n",
    "\n",
    "        exp_df = pd.DataFrame({'Y':Y,'exp':exp_smooth(Y,train_alpha)})\n",
    "        exp_df['exp'] = exp_df['exp'].shift(1) \n",
    "        exp_df = exp_df.reset_index()\n",
    "\n",
    "        val_sse = np.square(exp_df.loc[validate_index]['Y'] - exp_df.loc[validate_index]['exp']).sum()\n",
    "        test_sse = np.square(exp_df.loc[test_index]['Y'] - exp_df.loc[test_index]['exp']).sum()\n",
    "\n",
    "        cv_df.loc[pen] = [train_alpha,val_sse,test_sse]\n",
    "\n",
    "    cv_df = cv_df.reset_index()\n",
    "\n",
    "\n",
    "    opt_lambda = cv_df[cv_df['validate_sse']== cv_df['validate_sse'].min()]['penalty'].values[0]\n",
    "\n",
    "    alpha_list = []\n",
    "    oos_error_list = []\n",
    "    for pen in [0.0, opt_lambda]:\n",
    "        train_alpha = minimal_alpha(np.append(Y_train,Y_validate),pen)\n",
    "\n",
    "        exp_df = pd.DataFrame({'Y':Y,'exp':exp_smooth(Y,train_alpha)})\n",
    "        exp_df['exp'] = exp_df['exp'].shift(1) \n",
    "        exp_df = exp_df.reset_index()\n",
    "        test_sse = np.square(exp_df.loc[test_index]['Y'] - exp_df.loc[test_index]['exp']).sum()\n",
    "\n",
    "        alpha_list.append(train_alpha)\n",
    "        oos_error_list.append(test_sse)\n",
    "\n",
    "    \n",
    "    test_df.loc[prod] = alpha_list +[opt_lambda] +oos_error_list"
   ]
  },
  {
   "cell_type": "code",
   "execution_count": 353,
   "metadata": {},
   "outputs": [
    {
     "data": {
      "text/html": [
       "<div>\n",
       "<style scoped>\n",
       "    .dataframe tbody tr th:only-of-type {\n",
       "        vertical-align: middle;\n",
       "    }\n",
       "\n",
       "    .dataframe tbody tr th {\n",
       "        vertical-align: top;\n",
       "    }\n",
       "\n",
       "    .dataframe thead th {\n",
       "        text-align: right;\n",
       "    }\n",
       "</style>\n",
       "<table border=\"1\" class=\"dataframe\">\n",
       "  <thead>\n",
       "    <tr style=\"text-align: right;\">\n",
       "      <th></th>\n",
       "      <th>alpha_ses</th>\n",
       "      <th>alpha_lasso</th>\n",
       "      <th>opt_lambda</th>\n",
       "      <th>sse_ses</th>\n",
       "      <th>sse_lasso</th>\n",
       "    </tr>\n",
       "  </thead>\n",
       "  <tbody>\n",
       "    <tr>\n",
       "      <th>P1</th>\n",
       "      <td>0.878788</td>\n",
       "      <td>0.868687</td>\n",
       "      <td>45.918367</td>\n",
       "      <td>119.083685</td>\n",
       "      <td>119.266320</td>\n",
       "    </tr>\n",
       "    <tr>\n",
       "      <th>P2</th>\n",
       "      <td>0.878788</td>\n",
       "      <td>0.878788</td>\n",
       "      <td>0.000000</td>\n",
       "      <td>53.015910</td>\n",
       "      <td>53.015910</td>\n",
       "    </tr>\n",
       "    <tr>\n",
       "      <th>P3</th>\n",
       "      <td>0.909091</td>\n",
       "      <td>0.909091</td>\n",
       "      <td>0.000000</td>\n",
       "      <td>104.553392</td>\n",
       "      <td>104.553392</td>\n",
       "    </tr>\n",
       "    <tr>\n",
       "      <th>P4</th>\n",
       "      <td>1.000000</td>\n",
       "      <td>1.000000</td>\n",
       "      <td>0.000000</td>\n",
       "      <td>87.000000</td>\n",
       "      <td>87.000000</td>\n",
       "    </tr>\n",
       "    <tr>\n",
       "      <th>P5</th>\n",
       "      <td>0.777778</td>\n",
       "      <td>0.757576</td>\n",
       "      <td>45.918367</td>\n",
       "      <td>73.807881</td>\n",
       "      <td>74.581186</td>\n",
       "    </tr>\n",
       "  </tbody>\n",
       "</table>\n",
       "</div>"
      ],
      "text/plain": [
       "    alpha_ses  alpha_lasso  opt_lambda     sse_ses   sse_lasso\n",
       "P1   0.878788     0.868687   45.918367  119.083685  119.266320\n",
       "P2   0.878788     0.878788    0.000000   53.015910   53.015910\n",
       "P3   0.909091     0.909091    0.000000  104.553392  104.553392\n",
       "P4   1.000000     1.000000    0.000000   87.000000   87.000000\n",
       "P5   0.777778     0.757576   45.918367   73.807881   74.581186"
      ]
     },
     "execution_count": 353,
     "metadata": {},
     "output_type": "execute_result"
    }
   ],
   "source": [
    "test_df.head()"
   ]
  },
  {
   "cell_type": "code",
   "execution_count": 354,
   "metadata": {},
   "outputs": [
    {
     "data": {
      "text/plain": [
       "<matplotlib.axes._subplots.AxesSubplot at 0x19b3e835430>"
      ]
     },
     "execution_count": 354,
     "metadata": {},
     "output_type": "execute_result"
    },
    {
     "data": {
      "image/png": "[encoded data removed]",
      "text/plain": [
       "<Figure size 432x288 with 1 Axes>"
      ]
     },
     "metadata": {
      "needs_background": "light"
     },
     "output_type": "display_data"
    }
   ],
   "source": [
    "test_df['sse_delta'] = (test_df['sse_ses'] - test_df['sse_lasso'])\n",
    "test_df['sse_delta'].hist()"
   ]
  },
  {
   "cell_type": "code",
   "execution_count": 355,
   "metadata": {},
   "outputs": [
    {
     "data": {
      "text/plain": [
       "0.3956043956043956"
      ]
     },
     "execution_count": 355,
     "metadata": {},
     "output_type": "execute_result"
    }
   ],
   "source": [
    "len(test_df.query('sse_delta < 0'))/len(test_df)"
   ]
  },
  {
   "cell_type": "code",
   "execution_count": 356,
   "metadata": {},
   "outputs": [
    {
     "data": {
      "text/plain": [
       "0.45054945054945056"
      ]
     },
     "execution_count": 356,
     "metadata": {},
     "output_type": "execute_result"
    }
   ],
   "source": [
    "len(test_df.query('sse_delta == 0'))/len(test_df)"
   ]
  },
  {
   "cell_type": "code",
   "execution_count": 357,
   "metadata": {},
   "outputs": [
    {
     "data": {
      "text/plain": [
       "<matplotlib.axes._subplots.AxesSubplot at 0x19b3e8c35e0>"
      ]
     },
     "execution_count": 357,
     "metadata": {},
     "output_type": "execute_result"
    },
    {
     "data": {
      "image/png": "[encoded data removed]",
      "text/plain": [
       "<Figure size 432x288 with 1 Axes>"
      ]
     },
     "metadata": {
      "needs_background": "light"
     },
     "output_type": "display_data"
    }
   ],
   "source": [
    "test_df['opt_lambda'].hist()"
   ]
  },
  {
   "cell_type": "code",
   "execution_count": 358,
   "metadata": {},
   "outputs": [
    {
     "data": {
      "text/plain": [
       "<matplotlib.axes._subplots.AxesSubplot at 0x19b3e93b550>"
      ]
     },
     "execution_count": 358,
     "metadata": {},
     "output_type": "execute_result"
    },
    {
     "data": {
      "image/png": "[encoded data removed]",
      "text/plain": [
       "<Figure size 432x288 with 1 Axes>"
      ]
     },
     "metadata": {
      "needs_background": "light"
     },
     "output_type": "display_data"
    }
   ],
   "source": [
    "(test_df['alpha_ses'] - test_df['alpha_lasso']).hist()"
   ]
  },
  {
   "cell_type": "code",
   "execution_count": 359,
   "metadata": {},
   "outputs": [
    {
     "data": {
      "text/plain": [
       "<matplotlib.axes._subplots.AxesSubplot at 0x19b3e9aabb0>"
      ]
     },
     "execution_count": 359,
     "metadata": {},
     "output_type": "execute_result"
    },
    {
     "data": {
      "image/png": "[encoded data removed]",
      "text/plain": [
       "<Figure size 432x288 with 1 Axes>"
      ]
     },
     "metadata": {
      "needs_background": "light"
     },
     "output_type": "display_data"
    }
   ],
   "source": [
    "test_df.plot.scatter(x='opt_lambda',y='sse_delta')"
   ]
  },
  {
   "cell_type": "code",
   "execution_count": null,
   "metadata": {},
   "outputs": [],
   "source": []
  }
 ],
 "metadata": {
  "kernelspec": {
   "display_name": "Python 3",
   "language": "python",
   "name": "python3"
  },
  "language_info": {
   "codemirror_mode": {
    "name": "ipython",
    "version": 3
   },
   "file_extension": ".py",
   "mimetype": "text/x-python",
   "name": "python",
   "nbconvert_exporter": "python",
   "pygments_lexer": "ipython3",
   "version": "3.8.3"
  }
 },
 "nbformat": 4,
 "nbformat_minor": 4
}
